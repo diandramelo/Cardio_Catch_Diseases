{
 "cells": [
  {
   "cell_type": "markdown",
   "metadata": {
    "heading_collapsed": true
   },
   "source": [
    "# 0. IMPORTS"
   ]
  },
  {
   "cell_type": "code",
   "execution_count": 92,
   "metadata": {
    "ExecuteTime": {
     "end_time": "2021-01-12T10:27:26.882198Z",
     "start_time": "2021-01-12T10:27:26.878012Z"
    },
    "hidden": true
   },
   "outputs": [],
   "source": [
    "import pandas as pd\n",
    "import inflection\n",
    "import matplotlib.pyplot as plt\n",
    "import seaborn as sns\n",
    "\n",
    "from IPython.display         import Image\n",
    "from tabulate                import tabulate\n",
    "from sklearn                 import preprocessing, metrics\n",
    "from scipy.stats             import chi2_contingency\n",
    "from sklearn.preprocessing   import MinMaxScaler, RobustScaler\n",
    "from sklearn.model_selection import train_test_split, cross_val_score, GridSearchCV\n",
    "from boruta                  import BorutaPy\n",
    "from sklearn.ensemble        import RandomForestRegressor, RandomForestClassifier\n",
    "from sklearn.linear_model    import LogisticRegression\n",
    "from sklearn.metrics         import mean_absolute_error, confusion_matrix\n",
    "from sklearn.svm             import SVC"
   ]
  },
  {
   "cell_type": "markdown",
   "metadata": {
    "ExecuteTime": {
     "end_time": "2020-12-18T08:52:19.072932Z",
     "start_time": "2020-12-18T08:52:19.069947Z"
    },
    "heading_collapsed": true,
    "hidden": true
   },
   "source": [
    "## 0.1. Data import"
   ]
  },
  {
   "cell_type": "code",
   "execution_count": 2,
   "metadata": {
    "ExecuteTime": {
     "end_time": "2021-01-12T08:59:34.269850Z",
     "start_time": "2021-01-12T08:59:34.110327Z"
    },
    "hidden": true
   },
   "outputs": [],
   "source": [
    "df_train = pd.read_csv('data/cardio_train.csv', delimiter = ';')"
   ]
  },
  {
   "cell_type": "markdown",
   "metadata": {
    "heading_collapsed": true,
    "hidden": true
   },
   "source": [
    "## 0.2. Helper Functions"
   ]
  },
  {
   "cell_type": "code",
   "execution_count": 3,
   "metadata": {
    "ExecuteTime": {
     "end_time": "2021-01-12T08:59:35.228526Z",
     "start_time": "2021-01-12T08:59:35.219236Z"
    },
    "hidden": true
   },
   "outputs": [],
   "source": [
    "def cramer_v(var1,var2):\n",
    "    crosstab = np.array(pd.crosstab(var1, var2, rownames=None, colnames=None)) # Crosstab building\n",
    "    chi2 = chi2_contingency(crosstab)[0]\n",
    "    n = np.sum(crosstab)\n",
    "    phi2 = chi2 / n\n",
    "    r, k = crosstab.shape\n",
    "    phi2corr = max(0, phi2 - ((k-1)*(r-1))/(n-1))\n",
    "    rcorr = r - ((r-1)**2)/(n-1) \n",
    "    kcorr = k - ((k-1)**2)/(n-1)\n",
    "    return np.sqrt(phi2corr / min((kcorr-1), (rcorr-1)))"
   ]
  },
  {
   "cell_type": "markdown",
   "metadata": {
    "heading_collapsed": true,
    "hidden": true
   },
   "source": [
    "## 0.3. Graph visualization"
   ]
  },
  {
   "cell_type": "code",
   "execution_count": 4,
   "metadata": {
    "ExecuteTime": {
     "end_time": "2021-01-12T08:59:36.806258Z",
     "start_time": "2021-01-12T08:59:36.773395Z"
    },
    "hidden": true
   },
   "outputs": [
    {
     "name": "stdout",
     "output_type": "stream",
     "text": [
      "Populating the interactive namespace from numpy and matplotlib\n"
     ]
    },
    {
     "data": {
      "text/html": [
       "<style>.container { width:100% !important; }</style>"
      ],
      "text/plain": [
       "<IPython.core.display.HTML object>"
      ]
     },
     "metadata": {},
     "output_type": "display_data"
    }
   ],
   "source": [
    "\n",
    "from IPython.core.display import HTML\n",
    "\n",
    "def jupyter_settings():\n",
    "   %matplotlib inline\n",
    "   %pylab inline\n",
    "   plt.style.use( 'bmh' )\n",
    "   plt.rcParams['figure.figsize'] = [18, 8]\n",
    "   plt.rcParams['font.size'] = 20\n",
    "   display( HTML( '<style>.container { width:100% !important; }</style>') )\n",
    "   pd.options.display.max_columns = None\n",
    "   pd.options.display.max_rows = None\n",
    "   pd.set_option( 'display.expand_frame_repr', False )\n",
    "   sns.set()\n",
    "    \n",
    "jupyter_settings()"
   ]
  },
  {
   "cell_type": "markdown",
   "metadata": {
    "heading_collapsed": true
   },
   "source": [
    "# 1. DESCRIBE DATA "
   ]
  },
  {
   "cell_type": "code",
   "execution_count": 5,
   "metadata": {
    "ExecuteTime": {
     "end_time": "2021-01-12T08:59:38.607164Z",
     "start_time": "2021-01-12T08:59:38.601249Z"
    },
    "hidden": true
   },
   "outputs": [],
   "source": [
    "df1 = df_train.copy()"
   ]
  },
  {
   "cell_type": "markdown",
   "metadata": {
    "heading_collapsed": true,
    "hidden": true
   },
   "source": [
    "## 1.1. Rename Columns"
   ]
  },
  {
   "cell_type": "code",
   "execution_count": 6,
   "metadata": {
    "ExecuteTime": {
     "end_time": "2021-01-12T08:59:39.619017Z",
     "start_time": "2021-01-12T08:59:39.569970Z"
    },
    "hidden": true
   },
   "outputs": [],
   "source": [
    "cols_old = ['id', 'age', 'gender', 'height', 'weight', 'ap_hi', 'ap_lo', 'cholesterol', 'gluc', 'smoke', \n",
    "            'alco', 'active', 'cardio']\n",
    "\n",
    "df1 = df1.rename(columns = {'ap_hi': 'systolic_bp', 'ap_lo': 'diastolic_bp', 'gluc': 'glucose', \n",
    "                     'smoke': 'smoking', 'alco': 'alcohol_intake','active': 'physical_activity', \n",
    "                     'cardio': 'cardio_disease'})"
   ]
  },
  {
   "cell_type": "code",
   "execution_count": 7,
   "metadata": {
    "ExecuteTime": {
     "end_time": "2021-01-12T08:59:40.100733Z",
     "start_time": "2021-01-12T08:59:40.066066Z"
    },
    "hidden": true,
    "hide_input": true,
    "scrolled": true
   },
   "outputs": [
    {
     "data": {
      "text/html": [
       "<div>\n",
       "<style scoped>\n",
       "    .dataframe tbody tr th:only-of-type {\n",
       "        vertical-align: middle;\n",
       "    }\n",
       "\n",
       "    .dataframe tbody tr th {\n",
       "        vertical-align: top;\n",
       "    }\n",
       "\n",
       "    .dataframe thead th {\n",
       "        text-align: right;\n",
       "    }\n",
       "</style>\n",
       "<table border=\"1\" class=\"dataframe\">\n",
       "  <thead>\n",
       "    <tr style=\"text-align: right;\">\n",
       "      <th></th>\n",
       "      <th>id</th>\n",
       "      <th>age</th>\n",
       "      <th>gender</th>\n",
       "      <th>height</th>\n",
       "      <th>weight</th>\n",
       "      <th>systolic_bp</th>\n",
       "      <th>diastolic_bp</th>\n",
       "      <th>cholesterol</th>\n",
       "      <th>glucose</th>\n",
       "      <th>smoking</th>\n",
       "      <th>alcohol_intake</th>\n",
       "      <th>physical_activity</th>\n",
       "      <th>cardio_disease</th>\n",
       "    </tr>\n",
       "  </thead>\n",
       "  <tbody>\n",
       "    <tr>\n",
       "      <th>0</th>\n",
       "      <td>0</td>\n",
       "      <td>18393</td>\n",
       "      <td>2</td>\n",
       "      <td>168</td>\n",
       "      <td>62.0</td>\n",
       "      <td>110</td>\n",
       "      <td>80</td>\n",
       "      <td>1</td>\n",
       "      <td>1</td>\n",
       "      <td>0</td>\n",
       "      <td>0</td>\n",
       "      <td>1</td>\n",
       "      <td>0</td>\n",
       "    </tr>\n",
       "    <tr>\n",
       "      <th>1</th>\n",
       "      <td>1</td>\n",
       "      <td>20228</td>\n",
       "      <td>1</td>\n",
       "      <td>156</td>\n",
       "      <td>85.0</td>\n",
       "      <td>140</td>\n",
       "      <td>90</td>\n",
       "      <td>3</td>\n",
       "      <td>1</td>\n",
       "      <td>0</td>\n",
       "      <td>0</td>\n",
       "      <td>1</td>\n",
       "      <td>1</td>\n",
       "    </tr>\n",
       "    <tr>\n",
       "      <th>2</th>\n",
       "      <td>2</td>\n",
       "      <td>18857</td>\n",
       "      <td>1</td>\n",
       "      <td>165</td>\n",
       "      <td>64.0</td>\n",
       "      <td>130</td>\n",
       "      <td>70</td>\n",
       "      <td>3</td>\n",
       "      <td>1</td>\n",
       "      <td>0</td>\n",
       "      <td>0</td>\n",
       "      <td>0</td>\n",
       "      <td>1</td>\n",
       "    </tr>\n",
       "    <tr>\n",
       "      <th>3</th>\n",
       "      <td>3</td>\n",
       "      <td>17623</td>\n",
       "      <td>2</td>\n",
       "      <td>169</td>\n",
       "      <td>82.0</td>\n",
       "      <td>150</td>\n",
       "      <td>100</td>\n",
       "      <td>1</td>\n",
       "      <td>1</td>\n",
       "      <td>0</td>\n",
       "      <td>0</td>\n",
       "      <td>1</td>\n",
       "      <td>1</td>\n",
       "    </tr>\n",
       "    <tr>\n",
       "      <th>4</th>\n",
       "      <td>4</td>\n",
       "      <td>17474</td>\n",
       "      <td>1</td>\n",
       "      <td>156</td>\n",
       "      <td>56.0</td>\n",
       "      <td>100</td>\n",
       "      <td>60</td>\n",
       "      <td>1</td>\n",
       "      <td>1</td>\n",
       "      <td>0</td>\n",
       "      <td>0</td>\n",
       "      <td>0</td>\n",
       "      <td>0</td>\n",
       "    </tr>\n",
       "  </tbody>\n",
       "</table>\n",
       "</div>"
      ],
      "text/plain": [
       "   id    age  gender  height  weight  systolic_bp  diastolic_bp  cholesterol  glucose  smoking  alcohol_intake  physical_activity  cardio_disease\n",
       "0   0  18393       2     168    62.0          110            80            1        1        0               0                  1               0\n",
       "1   1  20228       1     156    85.0          140            90            3        1        0               0                  1               1\n",
       "2   2  18857       1     165    64.0          130            70            3        1        0               0                  0               1\n",
       "3   3  17623       2     169    82.0          150           100            1        1        0               0                  1               1\n",
       "4   4  17474       1     156    56.0          100            60            1        1        0               0                  0               0"
      ]
     },
     "execution_count": 7,
     "metadata": {},
     "output_type": "execute_result"
    }
   ],
   "source": [
    "df1.head()"
   ]
  },
  {
   "cell_type": "markdown",
   "metadata": {
    "heading_collapsed": true,
    "hidden": true
   },
   "source": [
    "## 1.2. Data Dimensions"
   ]
  },
  {
   "cell_type": "code",
   "execution_count": 8,
   "metadata": {
    "ExecuteTime": {
     "end_time": "2021-01-12T08:59:40.886944Z",
     "start_time": "2021-01-12T08:59:40.881851Z"
    },
    "hidden": true,
    "hide_input": true,
    "scrolled": true
   },
   "outputs": [
    {
     "name": "stdout",
     "output_type": "stream",
     "text": [
      "Number of rows: 70000\n",
      "Number of columns: 13\n"
     ]
    }
   ],
   "source": [
    "print('Number of rows: {}'.format(df1.shape[0]))\n",
    "print('Number of columns: {}'.format(df1.shape[1]))"
   ]
  },
  {
   "cell_type": "markdown",
   "metadata": {
    "heading_collapsed": true,
    "hidden": true
   },
   "source": [
    "## 1.3. Data Types"
   ]
  },
  {
   "cell_type": "code",
   "execution_count": 9,
   "metadata": {
    "ExecuteTime": {
     "end_time": "2021-01-12T08:59:41.653136Z",
     "start_time": "2021-01-12T08:59:41.647483Z"
    },
    "hidden": true,
    "hide_input": true,
    "scrolled": true
   },
   "outputs": [
    {
     "data": {
      "text/plain": [
       "id                     int64\n",
       "age                    int64\n",
       "gender                 int64\n",
       "height                 int64\n",
       "weight               float64\n",
       "systolic_bp            int64\n",
       "diastolic_bp           int64\n",
       "cholesterol            int64\n",
       "glucose                int64\n",
       "smoking                int64\n",
       "alcohol_intake         int64\n",
       "physical_activity      int64\n",
       "cardio_disease         int64\n",
       "dtype: object"
      ]
     },
     "execution_count": 9,
     "metadata": {},
     "output_type": "execute_result"
    }
   ],
   "source": [
    "df1.dtypes"
   ]
  },
  {
   "cell_type": "markdown",
   "metadata": {
    "heading_collapsed": true,
    "hidden": true
   },
   "source": [
    "## 1.4. Check NA"
   ]
  },
  {
   "cell_type": "code",
   "execution_count": 10,
   "metadata": {
    "ExecuteTime": {
     "end_time": "2021-01-12T08:59:42.699748Z",
     "start_time": "2021-01-12T08:59:42.687997Z"
    },
    "hidden": true,
    "hide_input": true,
    "scrolled": true
   },
   "outputs": [
    {
     "data": {
      "text/plain": [
       "id                   0\n",
       "age                  0\n",
       "gender               0\n",
       "height               0\n",
       "weight               0\n",
       "systolic_bp          0\n",
       "diastolic_bp         0\n",
       "cholesterol          0\n",
       "glucose              0\n",
       "smoking              0\n",
       "alcohol_intake       0\n",
       "physical_activity    0\n",
       "cardio_disease       0\n",
       "dtype: int64"
      ]
     },
     "execution_count": 10,
     "metadata": {},
     "output_type": "execute_result"
    }
   ],
   "source": [
    "df1.isna().sum()"
   ]
  },
  {
   "cell_type": "markdown",
   "metadata": {
    "heading_collapsed": true,
    "hidden": true
   },
   "source": [
    "## 1.5. Fillout NA\n",
    "(Not necessary)"
   ]
  },
  {
   "cell_type": "markdown",
   "metadata": {
    "heading_collapsed": true,
    "hidden": true
   },
   "source": [
    "## 1.6. Change Data Type"
   ]
  },
  {
   "cell_type": "code",
   "execution_count": 11,
   "metadata": {
    "ExecuteTime": {
     "end_time": "2021-01-12T08:59:44.835268Z",
     "start_time": "2021-01-12T08:59:44.799342Z"
    },
    "hidden": true
   },
   "outputs": [],
   "source": [
    "df1[['gender', 'cholesterol', 'glucose', 'smoking', 'alcohol_intake', 'physical_activity', \n",
    "          'cardio_disease']] = df1[['gender', 'cholesterol', 'glucose', 'smoking', 'alcohol_intake', \n",
    "          'physical_activity', 'cardio_disease']].astype('object')"
   ]
  },
  {
   "cell_type": "code",
   "execution_count": 12,
   "metadata": {
    "ExecuteTime": {
     "end_time": "2021-01-12T08:59:45.486352Z",
     "start_time": "2021-01-12T08:59:45.478329Z"
    },
    "hidden": true
   },
   "outputs": [
    {
     "data": {
      "text/plain": [
       "id                     int64\n",
       "age                    int64\n",
       "gender                object\n",
       "height                 int64\n",
       "weight               float64\n",
       "systolic_bp            int64\n",
       "diastolic_bp           int64\n",
       "cholesterol           object\n",
       "glucose               object\n",
       "smoking               object\n",
       "alcohol_intake        object\n",
       "physical_activity     object\n",
       "cardio_disease        object\n",
       "dtype: object"
      ]
     },
     "execution_count": 12,
     "metadata": {},
     "output_type": "execute_result"
    }
   ],
   "source": [
    "df1.dtypes"
   ]
  },
  {
   "cell_type": "markdown",
   "metadata": {
    "heading_collapsed": true,
    "hidden": true
   },
   "source": [
    "## 1.7. Descriptive Statistics\n"
   ]
  },
  {
   "cell_type": "code",
   "execution_count": 13,
   "metadata": {
    "ExecuteTime": {
     "end_time": "2021-01-12T08:59:47.269721Z",
     "start_time": "2021-01-12T08:59:47.250602Z"
    },
    "hidden": true
   },
   "outputs": [],
   "source": [
    "num_attributes = df1.select_dtypes(include = ['int64', 'float64'])\n",
    "cat_attributes = df1.select_dtypes(exclude = ['int64', 'float64'])"
   ]
  },
  {
   "cell_type": "markdown",
   "metadata": {
    "heading_collapsed": true,
    "hidden": true
   },
   "source": [
    "### 1.7.1. Numerical Variables"
   ]
  },
  {
   "cell_type": "code",
   "execution_count": 64,
   "metadata": {
    "ExecuteTime": {
     "end_time": "2020-12-23T09:22:27.066389Z",
     "start_time": "2020-12-23T09:22:26.983909Z"
    },
    "hidden": true
   },
   "outputs": [
    {
     "data": {
      "text/html": [
       "<div>\n",
       "<style scoped>\n",
       "    .dataframe tbody tr th:only-of-type {\n",
       "        vertical-align: middle;\n",
       "    }\n",
       "\n",
       "    .dataframe tbody tr th {\n",
       "        vertical-align: top;\n",
       "    }\n",
       "\n",
       "    .dataframe thead th {\n",
       "        text-align: right;\n",
       "    }\n",
       "</style>\n",
       "<table border=\"1\" class=\"dataframe\">\n",
       "  <thead>\n",
       "    <tr style=\"text-align: right;\">\n",
       "      <th></th>\n",
       "      <th>mean</th>\n",
       "      <th>median</th>\n",
       "      <th>std</th>\n",
       "      <th>min</th>\n",
       "      <th>max</th>\n",
       "      <th>range</th>\n",
       "      <th>skew</th>\n",
       "      <th>kurtosis</th>\n",
       "    </tr>\n",
       "  </thead>\n",
       "  <tbody>\n",
       "    <tr>\n",
       "      <th>id</th>\n",
       "      <td>49972.419900</td>\n",
       "      <td>50001.5</td>\n",
       "      <td>28851.302323</td>\n",
       "      <td>0.0</td>\n",
       "      <td>99999.0</td>\n",
       "      <td>99999.0</td>\n",
       "      <td>-0.001278</td>\n",
       "      <td>-1.198374</td>\n",
       "    </tr>\n",
       "    <tr>\n",
       "      <th>age</th>\n",
       "      <td>19468.865814</td>\n",
       "      <td>19703.0</td>\n",
       "      <td>2467.251667</td>\n",
       "      <td>10798.0</td>\n",
       "      <td>23713.0</td>\n",
       "      <td>12915.0</td>\n",
       "      <td>-0.307055</td>\n",
       "      <td>-0.823447</td>\n",
       "    </tr>\n",
       "    <tr>\n",
       "      <th>height</th>\n",
       "      <td>164.359229</td>\n",
       "      <td>165.0</td>\n",
       "      <td>8.210126</td>\n",
       "      <td>55.0</td>\n",
       "      <td>250.0</td>\n",
       "      <td>195.0</td>\n",
       "      <td>-0.642187</td>\n",
       "      <td>7.943653</td>\n",
       "    </tr>\n",
       "    <tr>\n",
       "      <th>weight</th>\n",
       "      <td>74.205690</td>\n",
       "      <td>72.0</td>\n",
       "      <td>14.395757</td>\n",
       "      <td>10.0</td>\n",
       "      <td>200.0</td>\n",
       "      <td>190.0</td>\n",
       "      <td>1.012070</td>\n",
       "      <td>2.586825</td>\n",
       "    </tr>\n",
       "    <tr>\n",
       "      <th>systolic_bp</th>\n",
       "      <td>128.817286</td>\n",
       "      <td>120.0</td>\n",
       "      <td>154.011419</td>\n",
       "      <td>-150.0</td>\n",
       "      <td>16020.0</td>\n",
       "      <td>16170.0</td>\n",
       "      <td>85.296214</td>\n",
       "      <td>7580.074738</td>\n",
       "    </tr>\n",
       "    <tr>\n",
       "      <th>diastolic_bp</th>\n",
       "      <td>96.630414</td>\n",
       "      <td>80.0</td>\n",
       "      <td>188.472530</td>\n",
       "      <td>-70.0</td>\n",
       "      <td>11000.0</td>\n",
       "      <td>11070.0</td>\n",
       "      <td>32.114083</td>\n",
       "      <td>1425.914585</td>\n",
       "    </tr>\n",
       "  </tbody>\n",
       "</table>\n",
       "</div>"
      ],
      "text/plain": [
       "                      mean   median           std      min      max    range       skew     kurtosis\n",
       "id            49972.419900  50001.5  28851.302323      0.0  99999.0  99999.0  -0.001278    -1.198374\n",
       "age           19468.865814  19703.0   2467.251667  10798.0  23713.0  12915.0  -0.307055    -0.823447\n",
       "height          164.359229    165.0      8.210126     55.0    250.0    195.0  -0.642187     7.943653\n",
       "weight           74.205690     72.0     14.395757     10.0    200.0    190.0   1.012070     2.586825\n",
       "systolic_bp     128.817286    120.0    154.011419   -150.0  16020.0  16170.0  85.296214  7580.074738\n",
       "diastolic_bp     96.630414     80.0    188.472530    -70.0  11000.0  11070.0  32.114083  1425.914585"
      ]
     },
     "execution_count": 64,
     "metadata": {},
     "output_type": "execute_result"
    }
   ],
   "source": [
    "# Central Tendency - Mean, Median\n",
    "ct1 = pd.DataFrame(num_attributes.mean())\n",
    "ct2 = pd.DataFrame(num_attributes.median())\n",
    "\n",
    "# Dispersion - Std, Min, Max, Range, Skew, Kurtosis\n",
    "d1 = pd.DataFrame(num_attributes.std())\n",
    "d2 = pd.DataFrame(num_attributes.min())\n",
    "d3 = pd.DataFrame(num_attributes.max())\n",
    "d4 = pd.DataFrame(num_attributes.max() - num_attributes.min())\n",
    "d5 = pd.DataFrame(num_attributes.skew())\n",
    "d6 = pd.DataFrame(num_attributes.kurtosis())\n",
    "\n",
    "# concat\n",
    "df_num = pd.concat([ct1, ct2, d1, d2, d3, d4, d5, d6], axis = 1)\n",
    "df_num.columns = ['mean', 'median', 'std', 'min', 'max', 'range', 'skew', 'kurtosis']\n",
    "df_num"
   ]
  },
  {
   "cell_type": "markdown",
   "metadata": {
    "heading_collapsed": true,
    "hidden": true
   },
   "source": [
    "### 1.7.2. Categorical Variables"
   ]
  },
  {
   "cell_type": "code",
   "execution_count": 14,
   "metadata": {
    "ExecuteTime": {
     "end_time": "2020-12-22T08:07:12.383374Z",
     "start_time": "2020-12-22T08:07:12.348501Z"
    },
    "hidden": true,
    "hide_input": true
   },
   "outputs": [
    {
     "data": {
      "text/plain": [
       "gender               2\n",
       "cholesterol          3\n",
       "glucose              3\n",
       "smoking              2\n",
       "alcohol_intake       2\n",
       "physical_activity    2\n",
       "cardio_disease       2\n",
       "dtype: int64"
      ]
     },
     "execution_count": 14,
     "metadata": {},
     "output_type": "execute_result"
    }
   ],
   "source": [
    "cat_attributes.apply( lambda x: x.unique().shape[0])"
   ]
  },
  {
   "cell_type": "code",
   "execution_count": 15,
   "metadata": {
    "ExecuteTime": {
     "end_time": "2020-12-22T08:07:22.307608Z",
     "start_time": "2020-12-22T08:07:12.385431Z"
    },
    "hidden": true,
    "hide_input": true,
    "scrolled": true
   },
   "outputs": [
    {
     "data": {
      "image/png": "[encoded data removed]",
      "text/plain": [
       "<Figure size 1296x576 with 3 Axes>"
      ]
     },
     "metadata": {},
     "output_type": "display_data"
    }
   ],
   "source": [
    "plt.subplot(1,3,1)\n",
    "sns.barplot(x = \"gender\", y = \"cardio_disease\", data = df1);\n",
    "\n",
    "plt.subplot(1,3,2)\n",
    "sns.barplot(x = \"cholesterol\", y = \"cardio_disease\", data = df1);\n",
    "\n",
    "plt.subplot(1,3,3)\n",
    "sns.barplot(x = \"smoking\", y = \"cardio_disease\", data = df1);"
   ]
  },
  {
   "cell_type": "markdown",
   "metadata": {
    "heading_collapsed": true
   },
   "source": [
    "# 2. FEATURE ENGINEERING"
   ]
  },
  {
   "cell_type": "code",
   "execution_count": 14,
   "metadata": {
    "ExecuteTime": {
     "end_time": "2021-01-12T08:59:51.358744Z",
     "start_time": "2021-01-12T08:59:51.349972Z"
    },
    "hidden": true
   },
   "outputs": [],
   "source": [
    "df2 = df1.copy()"
   ]
  },
  {
   "cell_type": "markdown",
   "metadata": {
    "heading_collapsed": true,
    "hidden": true
   },
   "source": [
    "## 2.1. Hypothesis Mind Map"
   ]
  },
  {
   "cell_type": "code",
   "execution_count": 17,
   "metadata": {
    "ExecuteTime": {
     "end_time": "2020-12-22T08:07:22.382884Z",
     "start_time": "2020-12-22T08:07:22.318176Z"
    },
    "hidden": true,
    "hide_input": true
   },
   "outputs": [
    {
     "data": {
      "image/png": "[encoded data removed]",
      "text/plain": [
       "<IPython.core.display.Image object>"
      ]
     },
     "execution_count": 17,
     "metadata": {},
     "output_type": "execute_result"
    }
   ],
   "source": [
    "Image(filename='img/CARDIOVASCULAR_DISEASES.png')"
   ]
  },
  {
   "cell_type": "markdown",
   "metadata": {
    "heading_collapsed": true,
    "hidden": true
   },
   "source": [
    "## 2.2. Hypothesis Development"
   ]
  },
  {
   "cell_type": "markdown",
   "metadata": {
    "heading_collapsed": true,
    "hidden": true
   },
   "source": [
    "### 2.2.1. Objective Features"
   ]
  },
  {
   "cell_type": "markdown",
   "metadata": {
    "hidden": true
   },
   "source": [
    "**1.** People with **some genetic predisposition** are **most likely to present** cardiovascular diseases.\n",
    "\n",
    "**2.** **Men** are most likely to **present** cardiovascular diseases.\n",
    "\n",
    "**3.** People with **overweight** are **most likely to present** cardiovascular diseases.\n",
    "\n",
    "**4.** **Older** people are **most likely to present** cardiovascular diseases."
   ]
  },
  {
   "cell_type": "markdown",
   "metadata": {
    "heading_collapsed": true,
    "hidden": true
   },
   "source": [
    "### 2.2.2. Subjective Features"
   ]
  },
  {
   "cell_type": "markdown",
   "metadata": {
    "hidden": true
   },
   "source": [
    "**1.** People dealing with more daily **stress** are **most likely to present** cardiovascular diseases.\n",
    "\n",
    "**2.** People who **drink alcohol** are **most likely to present** cardiovascular diseases.\n",
    "\n",
    "**3.** People who practice regular **physical activities** are **less likely to present** cardiovascular diseases.\n",
    "\n",
    "**4.** People who **smoke** are **most likely to present** cardiovascular diseases.\n",
    "\n",
    "**5.** People with a **regular and healthy diet** are **less likely to present** cardiovascular diseases."
   ]
  },
  {
   "cell_type": "markdown",
   "metadata": {
    "heading_collapsed": true,
    "hidden": true
   },
   "source": [
    "### 2.2.3. Examination Features"
   ]
  },
  {
   "cell_type": "markdown",
   "metadata": {
    "hidden": true
   },
   "source": [
    "**1.** People with **obesity** are **most likely to present** cardiovascular diseases.\n",
    "\n",
    "**2.** People who present **high cholesterol levels** are **most likely to present** cardiovascular diseases.\n",
    "\n",
    "**3.** **High glucose levels** people are **most likely to present** cardiovascular diseases.\n",
    "\n",
    "**4.** People with **hypertension** are **most likely to present** cardiovascular diseases."
   ]
  },
  {
   "cell_type": "markdown",
   "metadata": {
    "heading_collapsed": true,
    "hidden": true
   },
   "source": [
    "## 2.3. Feature Engineering"
   ]
  },
  {
   "cell_type": "markdown",
   "metadata": {
    "hidden": true
   },
   "source": [
    "### 2.3.1. Modified Columns"
   ]
  },
  {
   "cell_type": "code",
   "execution_count": 15,
   "metadata": {
    "ExecuteTime": {
     "end_time": "2021-01-12T09:00:01.912107Z",
     "start_time": "2021-01-12T09:00:01.856955Z"
    },
    "hidden": true
   },
   "outputs": [],
   "source": [
    "df2['age'] = (df2['age']/365).astype('int64')\n",
    "\n",
    "df2['gender'] = df2['gender'].apply(lambda x: 'feminine' if x == 1 else 'masculine')\n",
    "\n",
    "df2['height'] = df2['height']/100\n",
    "\n",
    "df2['cholesterol'] = df2['cholesterol'].apply(lambda x: 'normal' if x == 1 else 'above_normal' if x == 2 else 'well_above_normal')\n",
    "\n",
    "df2['glucose'] = df2['glucose'].apply(lambda x: 'normal' if x == 1 else 'above_normal' if x == 2 else 'well_above_normal')"
   ]
  },
  {
   "cell_type": "markdown",
   "metadata": {
    "hidden": true
   },
   "source": [
    "### 2.3.2. Created Columns"
   ]
  },
  {
   "cell_type": "code",
   "execution_count": 16,
   "metadata": {
    "ExecuteTime": {
     "end_time": "2021-01-12T09:00:02.831320Z",
     "start_time": "2021-01-12T09:00:02.741878Z"
    },
    "hidden": true
   },
   "outputs": [],
   "source": [
    "df2['bp_level'] = df2['systolic_bp'].apply(lambda x: 'normal' if x < 130 else 'pre_hypertension' if 130 <= x < 140 \n",
    "                                           else 'hypertension')\n",
    "\n",
    "df2['BMI'] = (df2['weight'] / np.square(df2['height'])).round(1)\n",
    "\n",
    "df2['weight_status'] = df2['BMI'].apply(lambda x: 'underweight' if x < 18.5 \n",
    "                                        else 'normal' if x < 25 \n",
    "                                        else 'overweight' if x < 30 \n",
    "                                        else 'obese')"
   ]
  },
  {
   "cell_type": "markdown",
   "metadata": {
    "heading_collapsed": true
   },
   "source": [
    "# 3. VARIABLE FILTERING"
   ]
  },
  {
   "cell_type": "code",
   "execution_count": 17,
   "metadata": {
    "ExecuteTime": {
     "end_time": "2021-01-12T09:00:05.775367Z",
     "start_time": "2021-01-12T09:00:05.764971Z"
    },
    "hidden": true
   },
   "outputs": [],
   "source": [
    "df3 = df2.copy()"
   ]
  },
  {
   "cell_type": "markdown",
   "metadata": {
    "heading_collapsed": true,
    "hidden": true
   },
   "source": [
    "## 3.1. Filtering Rows"
   ]
  },
  {
   "cell_type": "code",
   "execution_count": 20,
   "metadata": {
    "ExecuteTime": {
     "end_time": "2021-01-12T09:00:17.468861Z",
     "start_time": "2021-01-12T09:00:17.445049Z"
    },
    "hidden": true
   },
   "outputs": [],
   "source": [
    "df3 = df3[(df3['systolic_bp'] >= 80) & (df3['systolic_bp'] <= 240) \n",
    "          & (df3['diastolic_bp'] >= 50) & (df3['diastolic_bp'] <= 140)]\n",
    "\n",
    "df3 = df3[(df3['height'] > 1.20) & (df3['height'] <= 2.10) \n",
    "          & (df3['weight'] >= 40) & (df3['BMI'] <= 60)]"
   ]
  },
  {
   "cell_type": "markdown",
   "metadata": {
    "heading_collapsed": true,
    "hidden": true
   },
   "source": [
    "## 3.2. Columns Selection"
   ]
  },
  {
   "cell_type": "code",
   "execution_count": 19,
   "metadata": {
    "ExecuteTime": {
     "end_time": "2021-01-12T09:00:15.315123Z",
     "start_time": "2021-01-12T09:00:15.297934Z"
    },
    "hidden": true
   },
   "outputs": [],
   "source": [
    "df3 = df3.drop('id', axis = 1)"
   ]
  },
  {
   "cell_type": "markdown",
   "metadata": {
    "heading_collapsed": true
   },
   "source": [
    "# 4. EXPLORATORY DATA ANALYSIS"
   ]
  },
  {
   "cell_type": "code",
   "execution_count": 21,
   "metadata": {
    "ExecuteTime": {
     "end_time": "2021-01-12T09:00:26.687803Z",
     "start_time": "2021-01-12T09:00:26.682168Z"
    },
    "hidden": true
   },
   "outputs": [],
   "source": [
    "df4 = df3.copy()"
   ]
  },
  {
   "cell_type": "markdown",
   "metadata": {
    "heading_collapsed": true,
    "hidden": true
   },
   "source": [
    "## 4.1. Univariate Analysis"
   ]
  },
  {
   "cell_type": "markdown",
   "metadata": {
    "heading_collapsed": true,
    "hidden": true
   },
   "source": [
    "### 4.1.1. Response Variable\n",
    "(To think)"
   ]
  },
  {
   "cell_type": "markdown",
   "metadata": {
    "heading_collapsed": true,
    "hidden": true
   },
   "source": [
    "### 4.1.2. Numerical Variables"
   ]
  },
  {
   "cell_type": "code",
   "execution_count": 80,
   "metadata": {
    "ExecuteTime": {
     "end_time": "2020-12-22T08:38:31.604566Z",
     "start_time": "2020-12-22T08:38:30.631826Z"
    },
    "hidden": true,
    "hide_input": true
   },
   "outputs": [
    {
     "data": {
      "image/png": "[encoded data removed]",
      "text/plain": [
       "<Figure size 1296x576 with 6 Axes>"
      ]
     },
     "metadata": {},
     "output_type": "display_data"
    }
   ],
   "source": [
    "num_attributes = df4.select_dtypes(include = ['int64', 'float64'])\n",
    "\n",
    "num_attributes.hist(bins = 15);"
   ]
  },
  {
   "cell_type": "markdown",
   "metadata": {
    "heading_collapsed": true,
    "hidden": true
   },
   "source": [
    "### 4.1.3. Categorical Variables"
   ]
  },
  {
   "cell_type": "code",
   "execution_count": 98,
   "metadata": {
    "ExecuteTime": {
     "end_time": "2020-12-22T08:53:31.555205Z",
     "start_time": "2020-12-22T08:53:29.094682Z"
    },
    "hidden": true,
    "hide_input": true
   },
   "outputs": [
    {
     "data": {
      "image/png": "[encoded data removed]",
      "text/plain": [
       "<Figure size 1296x576 with 3 Axes>"
      ]
     },
     "metadata": {},
     "output_type": "display_data"
    }
   ],
   "source": [
    "cat_attributes = df4.select_dtypes(exclude = ['int64', 'float64', 'datetime64[ns]'])\n",
    "\n",
    "plt.subplot(1, 3, 1)\n",
    "sns.countplot(x = df4['cholesterol'], order = ('normal', 'above_normal', 'well_above_normal'));\n",
    "\n",
    "plt.subplot(1, 3, 2)\n",
    "sns.countplot(x = df4['glucose'], order = ('normal', 'above_normal', 'well_above_normal'));\n",
    "\n",
    "plt.subplot(1, 3, 3)\n",
    "sns.countplot(x = df4['bp_level'], order = ('normal', 'pre_hypertension', 'hypertension'));"
   ]
  },
  {
   "cell_type": "markdown",
   "metadata": {
    "heading_collapsed": true,
    "hidden": true
   },
   "source": [
    "## 4.2. Bivariate Analysis"
   ]
  },
  {
   "cell_type": "markdown",
   "metadata": {
    "heading_collapsed": true,
    "hidden": true
   },
   "source": [
    "### 4.2.1. Individual Analysis of the Hypothesis"
   ]
  },
  {
   "cell_type": "markdown",
   "metadata": {
    "hidden": true
   },
   "source": [
    "**H1.** **Men** are most likely to **present** cardiovascular diseases.\n",
    "\n",
    "**TRUE**, although difference in percentage is not expressive."
   ]
  },
  {
   "cell_type": "code",
   "execution_count": 103,
   "metadata": {
    "ExecuteTime": {
     "end_time": "2020-12-22T09:03:31.286186Z",
     "start_time": "2020-12-22T09:03:27.475678Z"
    },
    "hidden": true,
    "hide_input": true,
    "scrolled": false
   },
   "outputs": [
    {
     "data": {
      "image/png": "[encoded data removed]",
      "text/plain": [
       "<Figure size 1296x576 with 1 Axes>"
      ]
     },
     "metadata": {},
     "output_type": "display_data"
    }
   ],
   "source": [
    "sns.barplot(x = \"gender\", y = \"cardio_disease\", data = df4);"
   ]
  },
  {
   "cell_type": "markdown",
   "metadata": {
    "hidden": true,
    "hide_input": true
   },
   "source": [
    "**H2.** People with **obesity** are **most likely to present** cardiovascular diseases.\n",
    "\n",
    "**TRUE**, as well as people with underweight tend to have less cadiac diseases."
   ]
  },
  {
   "cell_type": "code",
   "execution_count": 333,
   "metadata": {
    "ExecuteTime": {
     "end_time": "2020-12-22T12:58:16.701099Z",
     "start_time": "2020-12-22T12:58:12.742801Z"
    },
    "hidden": true,
    "hide_input": true,
    "scrolled": false
   },
   "outputs": [
    {
     "data": {
      "image/png": "[encoded data removed]",
      "text/plain": [
       "<Figure size 1296x576 with 1 Axes>"
      ]
     },
     "metadata": {},
     "output_type": "display_data"
    }
   ],
   "source": [
    "sns.barplot(x = 'weight_status', y = 'cardio_disease', data = df4, order = ('underweight', 'normal', 'overweight', 'obese'));"
   ]
  },
  {
   "cell_type": "markdown",
   "metadata": {
    "hidden": true
   },
   "source": [
    "**H3.** **Older** people are **most likely to present** cardiovascular diseases.\n",
    "\n",
    "**TRUE**"
   ]
  },
  {
   "cell_type": "code",
   "execution_count": 306,
   "metadata": {
    "ExecuteTime": {
     "end_time": "2020-12-22T11:06:42.023891Z",
     "start_time": "2020-12-22T11:06:37.465566Z"
    },
    "hidden": true,
    "hide_input": true
   },
   "outputs": [
    {
     "data": {
      "image/png": "[encoded data removed]",
      "text/plain": [
       "<Figure size 1296x576 with 2 Axes>"
      ]
     },
     "metadata": {},
     "output_type": "display_data"
    }
   ],
   "source": [
    "aux = df4.groupby(['age', 'cardio_disease']).agg({'cardio_disease': 'count'})\n",
    "\n",
    "aux1 = aux.groupby(level = 0).apply(lambda x: (100 * x / float(x.sum())).round(2)).reset_index(0)\n",
    "aux1 = aux1[aux1.index == 1].rename(columns = {'cardio_disease': 'percentage_with_disease'})\n",
    "\n",
    "plt.subplot(1, 2, 1)\n",
    "sns.barplot(x = 'age', y = 'cardio_disease', data = df4);\n",
    "\n",
    "plt.subplot(1, 2, 2)\n",
    "sns.regplot(x = 'age', y = 'percentage_with_disease', data = aux1);"
   ]
  },
  {
   "cell_type": "markdown",
   "metadata": {
    "hidden": true
   },
   "source": [
    "**H4.** People who **drink alcohol** are **most likely to present** cardiovascular diseases.\n",
    "\n",
    "**FALSE**, although difference in percentage is not very expressive."
   ]
  },
  {
   "cell_type": "code",
   "execution_count": 313,
   "metadata": {
    "ExecuteTime": {
     "end_time": "2020-12-22T12:37:11.886778Z",
     "start_time": "2020-12-22T12:37:07.985929Z"
    },
    "hidden": true,
    "hide_input": true
   },
   "outputs": [
    {
     "data": {
      "image/png": "[encoded data removed]",
      "text/plain": [
       "<Figure size 1296x576 with 1 Axes>"
      ]
     },
     "metadata": {},
     "output_type": "display_data"
    }
   ],
   "source": [
    "sns.barplot(x = 'alcohol_intake', y = 'cardio_disease', data = df4);"
   ]
  },
  {
   "cell_type": "markdown",
   "metadata": {
    "hidden": true
   },
   "source": [
    "**H5.** People who practice regular **physical activities** are **less likely to present** cardiovascular diseases.\n",
    "\n",
    "**TRUE**"
   ]
  },
  {
   "cell_type": "code",
   "execution_count": 314,
   "metadata": {
    "ExecuteTime": {
     "end_time": "2020-12-22T12:41:00.744448Z",
     "start_time": "2020-12-22T12:40:56.899685Z"
    },
    "hidden": true,
    "hide_input": true
   },
   "outputs": [
    {
     "data": {
      "image/png": "[encoded data removed]",
      "text/plain": [
       "<Figure size 1296x576 with 1 Axes>"
      ]
     },
     "metadata": {},
     "output_type": "display_data"
    }
   ],
   "source": [
    "sns.barplot(x = 'physical_activity', y = 'cardio_disease', data = df4);"
   ]
  },
  {
   "cell_type": "markdown",
   "metadata": {
    "hidden": true
   },
   "source": [
    "**H6.** People who **smoke** are **most likely to present** cardiovascular diseases.\n",
    "\n",
    "**FALSE**"
   ]
  },
  {
   "cell_type": "code",
   "execution_count": 315,
   "metadata": {
    "ExecuteTime": {
     "end_time": "2020-12-22T12:43:57.430701Z",
     "start_time": "2020-12-22T12:43:53.557422Z"
    },
    "hidden": true,
    "hide_input": true
   },
   "outputs": [
    {
     "data": {
      "image/png": "[encoded data removed]",
      "text/plain": [
       "<Figure size 1296x576 with 1 Axes>"
      ]
     },
     "metadata": {},
     "output_type": "display_data"
    }
   ],
   "source": [
    "sns.barplot(x = 'smoking', y = 'cardio_disease', data = df4);"
   ]
  },
  {
   "cell_type": "markdown",
   "metadata": {
    "hidden": true
   },
   "source": [
    "**H7.** People who present **high cholesterol levels** are **most likely to present** cardiovascular diseases.\n",
    "\n",
    "**TRUE**, and those variables seems to have a strong correlation"
   ]
  },
  {
   "cell_type": "code",
   "execution_count": 317,
   "metadata": {
    "ExecuteTime": {
     "end_time": "2020-12-22T12:45:12.590964Z",
     "start_time": "2020-12-22T12:45:08.765596Z"
    },
    "hidden": true,
    "hide_input": true
   },
   "outputs": [
    {
     "data": {
      "image/png": "[encoded data removed]",
      "text/plain": [
       "<Figure size 1296x576 with 1 Axes>"
      ]
     },
     "metadata": {},
     "output_type": "display_data"
    }
   ],
   "source": [
    "sns.barplot(x = 'cholesterol', y = 'cardio_disease', data = df4, order = ('normal', 'above_normal', 'well_above_normal'));"
   ]
  },
  {
   "cell_type": "markdown",
   "metadata": {
    "hidden": true
   },
   "source": [
    "**H8.** **High glucose levels** people are **most likely to present** cardiovascular diseases.\n",
    "\n",
    "**TRUE**"
   ]
  },
  {
   "cell_type": "code",
   "execution_count": 318,
   "metadata": {
    "ExecuteTime": {
     "end_time": "2020-12-22T12:47:23.929525Z",
     "start_time": "2020-12-22T12:47:20.087217Z"
    },
    "hidden": true
   },
   "outputs": [
    {
     "data": {
      "image/png": "[encoded data removed]",
      "text/plain": [
       "<Figure size 1296x576 with 1 Axes>"
      ]
     },
     "metadata": {},
     "output_type": "display_data"
    }
   ],
   "source": [
    "sns.barplot(x = 'glucose', y = 'cardio_disease', data = df4);"
   ]
  },
  {
   "cell_type": "markdown",
   "metadata": {
    "hidden": true
   },
   "source": [
    "**H9.** People with **hypertension** are **most likely to present** cardiovascular diseases.\n",
    "\n",
    "**TRUE**, and those variables seems to have a strong correlation"
   ]
  },
  {
   "cell_type": "code",
   "execution_count": 320,
   "metadata": {
    "ExecuteTime": {
     "end_time": "2020-12-22T12:48:28.561556Z",
     "start_time": "2020-12-22T12:48:24.779599Z"
    },
    "hidden": true,
    "hide_input": true
   },
   "outputs": [
    {
     "data": {
      "image/png": "[encoded data removed]",
      "text/plain": [
       "<Figure size 1296x576 with 1 Axes>"
      ]
     },
     "metadata": {},
     "output_type": "display_data"
    }
   ],
   "source": [
    "sns.barplot(x = 'bp_level', y = 'cardio_disease', data = df4, order = ('normal', 'pre_hypertension', 'hypertension'));"
   ]
  },
  {
   "cell_type": "markdown",
   "metadata": {
    "heading_collapsed": true,
    "hidden": true
   },
   "source": [
    "### 4.2.2. General Hypothesis Overview"
   ]
  },
  {
   "cell_type": "code",
   "execution_count": 338,
   "metadata": {
    "ExecuteTime": {
     "end_time": "2020-12-22T13:08:26.924426Z",
     "start_time": "2020-12-22T13:08:26.913630Z"
    },
    "hidden": true,
    "hide_input": true
   },
   "outputs": [
    {
     "name": "stdout",
     "output_type": "stream",
     "text": [
      "Hypothesis                                                                                              Conclusion    Relevance\n",
      "------------------------------------------------------------------------------------------------------  ------------  -----------\n",
      "H1. Men are most likely to present cardiovascular diseases                                              True          Low\n",
      "H2. People with obesity are most likely to present cardiovascular diseases                              True          High\n",
      "H3. Older people are most likely to present cardiovascular diseases                                     True          High\n",
      "H4. People who drink alcohol are most likely to present cardiovascular diseases                         False         Low\n",
      "H5. People who practice regular physical activities are less likely to present cardiovascular diseases  True          Low\n",
      "H6. People who smoke are most likely to present cardiovascular diseases                                 False         Low\n",
      "H7. People who present high cholesterol levels are most likely to present cardiovascular diseases       True          High\n",
      "H8. High glucose levels people are most likely to present cardiovascular diseases                       True          Moderate\n",
      "H9. People with hypertension are most likely to present cardiovascular diseases                         True          High\n"
     ]
    }
   ],
   "source": [
    "tab = [['Hypothesis', 'Conclusion', 'Relevance'],\n",
    "       ['H1. Men are most likely to present cardiovascular diseases', 'True', 'Low'],\n",
    "       ['H2. People with obesity are most likely to present cardiovascular diseases', 'True', 'High'],\n",
    "       ['H3. Older people are most likely to present cardiovascular diseases', 'True', 'High'],\n",
    "       ['H4. People who drink alcohol are most likely to present cardiovascular diseases', 'False', 'Low'],\n",
    "       ['H5. People who practice regular physical activities are less likely to present cardiovascular diseases', 'True', 'Low'],\n",
    "       ['H6. People who smoke are most likely to present cardiovascular diseases', 'False', 'Low'],\n",
    "       ['H7. People who present high cholesterol levels are most likely to present cardiovascular diseases', 'True', 'High'],\n",
    "       ['H8. High glucose levels people are most likely to present cardiovascular diseases', 'True', 'Moderate'],\n",
    "       ['H9. People with hypertension are most likely to present cardiovascular diseases', 'True', 'High']\n",
    "      ]\n",
    "print(tabulate(tab, headers='firstrow'))"
   ]
  },
  {
   "cell_type": "markdown",
   "metadata": {
    "heading_collapsed": true,
    "hidden": true
   },
   "source": [
    "## 4.3. Multivariate Analysis"
   ]
  },
  {
   "cell_type": "markdown",
   "metadata": {
    "heading_collapsed": true,
    "hidden": true
   },
   "source": [
    "### 4.3.1. Numerical Attributes"
   ]
  },
  {
   "cell_type": "code",
   "execution_count": 340,
   "metadata": {
    "ExecuteTime": {
     "end_time": "2020-12-22T13:09:14.957891Z",
     "start_time": "2020-12-22T13:09:14.585842Z"
    },
    "hidden": true,
    "hide_input": true
   },
   "outputs": [
    {
     "data": {
      "image/png": "[encoded data removed]",
      "text/plain": [
       "<Figure size 1296x576 with 2 Axes>"
      ]
     },
     "metadata": {},
     "output_type": "display_data"
    }
   ],
   "source": [
    "sns.heatmap(num_attributes.corr(method = 'pearson'), annot = True);"
   ]
  },
  {
   "cell_type": "markdown",
   "metadata": {
    "hidden": true
   },
   "source": [
    "### 4.3.2. Categorical Attributes"
   ]
  },
  {
   "cell_type": "code",
   "execution_count": 376,
   "metadata": {
    "ExecuteTime": {
     "end_time": "2020-12-22T13:53:49.616304Z",
     "start_time": "2020-12-22T13:53:47.274875Z"
    },
    "hidden": true,
    "hide_input": true,
    "scrolled": false
   },
   "outputs": [
    {
     "data": {
      "image/png": "[encoded data removed]",
      "text/plain": [
       "<Figure size 1296x576 with 2 Axes>"
      ]
     },
     "metadata": {},
     "output_type": "display_data"
    }
   ],
   "source": [
    "a = df4.select_dtypes(include = 'object')\n",
    "\n",
    "label = preprocessing.LabelEncoder()\n",
    "data_encoded = pd.DataFrame() \n",
    "\n",
    "for i in a.columns :\n",
    "    data_encoded[i] = label.fit_transform(a[i])\n",
    "\n",
    "rows = []\n",
    "\n",
    "for var1 in data_encoded:\n",
    "    col = []\n",
    "    \n",
    "    for var2 in data_encoded :\n",
    "        cramer = cramer_v(data_encoded[var1], data_encoded[var2]) # Cramer's V test\n",
    "        col.append(round(cramer, 2)) # Keeping of the rounded value of the Cramer's V  \n",
    "    \n",
    "    rows.append(col)\n",
    "    \n",
    "cramer_results = np.array(rows)\n",
    "d = pd.DataFrame(cramer_results, columns = data_encoded.columns, index = data_encoded.columns)\n",
    "\n",
    "sns.heatmap(d, annot = True);"
   ]
  },
  {
   "cell_type": "markdown",
   "metadata": {
    "heading_collapsed": true
   },
   "source": [
    "# 5. DATA PREPARATION"
   ]
  },
  {
   "cell_type": "code",
   "execution_count": 53,
   "metadata": {
    "ExecuteTime": {
     "end_time": "2021-01-12T09:55:34.074074Z",
     "start_time": "2021-01-12T09:55:34.068012Z"
    },
    "hidden": true
   },
   "outputs": [],
   "source": [
    "df5 = df4.copy()"
   ]
  },
  {
   "cell_type": "markdown",
   "metadata": {
    "heading_collapsed": true,
    "hidden": true
   },
   "source": [
    "## 5.1. Normalization\n",
    "\n",
    "(None)"
   ]
  },
  {
   "cell_type": "markdown",
   "metadata": {
    "heading_collapsed": true,
    "hidden": true
   },
   "source": [
    "## 5.2. Rescaling"
   ]
  },
  {
   "cell_type": "code",
   "execution_count": 54,
   "metadata": {
    "ExecuteTime": {
     "end_time": "2021-01-12T09:55:35.566901Z",
     "start_time": "2021-01-12T09:55:35.546058Z"
    },
    "hidden": true
   },
   "outputs": [],
   "source": [
    "mms = MinMaxScaler()\n",
    "rs = RobustScaler()\n",
    "\n",
    "# age - range 35.00 (no)\n",
    "df5['age'] = mms.fit_transform(df5[['age']].values)\n",
    "\n",
    "# height - 0.82 (no)\n",
    "\n",
    "# weight - 160.00 (RobustScaler)\n",
    "df5['weight'] = mms.fit_transform(df5[['weight']].values)\n",
    "\n",
    "# systolic - 160.00 (MinMaxScaler)\n",
    "df5['systolic_bp'] = mms.fit_transform(df5[['systolic_bp']].values)\n",
    "\n",
    "# diastolic - 90.00 (MinMaxScaler)\n",
    "df5['diastolic_bp'] = mms.fit_transform(df5[['diastolic_bp']].values)\n",
    "\n",
    "# BMI - 46 (MinMaxScaler)\n",
    "df5['BMI'] = mms.fit_transform(df5[['BMI']].values)"
   ]
  },
  {
   "cell_type": "markdown",
   "metadata": {
    "heading_collapsed": true,
    "hidden": true
   },
   "source": [
    "## 5.3. Transformation"
   ]
  },
  {
   "cell_type": "markdown",
   "metadata": {
    "heading_collapsed": true,
    "hidden": true
   },
   "source": [
    "### 5.3.1. Response Variable\n",
    "\n",
    "(None)"
   ]
  },
  {
   "cell_type": "markdown",
   "metadata": {
    "heading_collapsed": true,
    "hidden": true
   },
   "source": [
    "### 5.3.2. Encoding"
   ]
  },
  {
   "cell_type": "code",
   "execution_count": 55,
   "metadata": {
    "ExecuteTime": {
     "end_time": "2021-01-12T09:55:37.852844Z",
     "start_time": "2021-01-12T09:55:37.807437Z"
    },
    "hidden": true
   },
   "outputs": [],
   "source": [
    "# gender - OrdinalEncoder\n",
    "assort_dict1 = {'feminine': 1,\n",
    "               'masculine': 2}\n",
    "df5['gender'] = df5['gender'].map(assort_dict1)\n",
    "\n",
    "# cholesterol - OrdinalEncoder\n",
    "assort_dict2 = {'normal': 1,\n",
    "               'above_normal': 2,\n",
    "               'well_above_normal': 3}\n",
    "df5['cholesterol'] = df5['cholesterol'].map(assort_dict2)\n",
    "\n",
    "# glucose - OrdinalEncoder\n",
    "df5['glucose'] = df5['glucose'].map(assort_dict2)\n",
    "\n",
    "# bp_level - OrdinalEncoder\n",
    "assort_dict3 = {'normal': 1,\n",
    "               'pre_hypertension': 2,\n",
    "               'hypertension': 3}\n",
    "df5['bp_level'] = df5['bp_level'].map(assort_dict3)\n",
    "\n",
    "# weight_status - OrdinalEncoder\n",
    "assort_dict4 = {'underweight': 1,\n",
    "               'normal': 2,\n",
    "               'overweight': 3,\n",
    "               'obese': 4}\n",
    "df5['weight_status'] = df5['weight_status'].map(assort_dict4)"
   ]
  },
  {
   "cell_type": "markdown",
   "metadata": {
    "heading_collapsed": true,
    "hidden": true
   },
   "source": [
    "### 5.3.3. Nature Transformation\n",
    "\n",
    "(None)"
   ]
  },
  {
   "cell_type": "markdown",
   "metadata": {
    "heading_collapsed": true
   },
   "source": [
    "# 6. FEATURE SELECTION"
   ]
  },
  {
   "cell_type": "code",
   "execution_count": 134,
   "metadata": {
    "ExecuteTime": {
     "end_time": "2021-01-12T10:38:21.098847Z",
     "start_time": "2021-01-12T10:38:21.092522Z"
    },
    "hidden": true
   },
   "outputs": [],
   "source": [
    "df6 = df5.copy()"
   ]
  },
  {
   "cell_type": "markdown",
   "metadata": {
    "heading_collapsed": true,
    "hidden": true
   },
   "source": [
    "## 6.1. Split DataFrame into Training and Test"
   ]
  },
  {
   "cell_type": "code",
   "execution_count": 135,
   "metadata": {
    "ExecuteTime": {
     "end_time": "2021-01-12T10:38:22.663933Z",
     "start_time": "2021-01-12T10:38:22.642346Z"
    },
    "hidden": true
   },
   "outputs": [],
   "source": [
    "train, test = train_test_split(df6, test_size = 0.2, random_state = 42, shuffle = True)\n",
    "\n",
    "X_train = train\n",
    "y_train = X_train['cardio_disease']\n",
    "\n",
    "X_test = test\n",
    "y_test = X_test['cardio_disease']"
   ]
  },
  {
   "cell_type": "markdown",
   "metadata": {
    "heading_collapsed": true,
    "hidden": true
   },
   "source": [
    "## 6.2. Boruta as Feature Selector"
   ]
  },
  {
   "cell_type": "code",
   "execution_count": 58,
   "metadata": {
    "ExecuteTime": {
     "end_time": "2021-01-12T09:57:21.907920Z",
     "start_time": "2021-01-12T09:55:45.091369Z"
    },
    "hidden": true
   },
   "outputs": [
    {
     "name": "stdout",
     "output_type": "stream",
     "text": [
      "Iteration: \t1 / 100\n",
      "Confirmed: \t0\n",
      "Tentative: \t14\n",
      "Rejected: \t0\n",
      "Iteration: \t2 / 100\n",
      "Confirmed: \t0\n",
      "Tentative: \t14\n",
      "Rejected: \t0\n",
      "Iteration: \t3 / 100\n",
      "Confirmed: \t0\n",
      "Tentative: \t14\n",
      "Rejected: \t0\n",
      "Iteration: \t4 / 100\n",
      "Confirmed: \t0\n",
      "Tentative: \t14\n",
      "Rejected: \t0\n",
      "Iteration: \t5 / 100\n",
      "Confirmed: \t0\n",
      "Tentative: \t14\n",
      "Rejected: \t0\n",
      "Iteration: \t6 / 100\n",
      "Confirmed: \t0\n",
      "Tentative: \t14\n",
      "Rejected: \t0\n",
      "Iteration: \t7 / 100\n",
      "Confirmed: \t0\n",
      "Tentative: \t14\n",
      "Rejected: \t0\n",
      "Iteration: \t8 / 100\n",
      "Confirmed: \t0\n",
      "Tentative: \t2\n",
      "Rejected: \t12\n",
      "Iteration: \t9 / 100\n",
      "Confirmed: \t1\n",
      "Tentative: \t1\n",
      "Rejected: \t12\n",
      "Iteration: \t10 / 100\n",
      "Confirmed: \t1\n",
      "Tentative: \t1\n",
      "Rejected: \t12\n",
      "Iteration: \t11 / 100\n",
      "Confirmed: \t1\n",
      "Tentative: \t1\n",
      "Rejected: \t12\n",
      "Iteration: \t12 / 100\n",
      "Confirmed: \t1\n",
      "Tentative: \t1\n",
      "Rejected: \t12\n",
      "Iteration: \t13 / 100\n",
      "Confirmed: \t1\n",
      "Tentative: \t1\n",
      "Rejected: \t12\n",
      "Iteration: \t14 / 100\n",
      "Confirmed: \t1\n",
      "Tentative: \t1\n",
      "Rejected: \t12\n",
      "Iteration: \t15 / 100\n",
      "Confirmed: \t1\n",
      "Tentative: \t1\n",
      "Rejected: \t12\n",
      "Iteration: \t16 / 100\n",
      "Confirmed: \t1\n",
      "Tentative: \t1\n",
      "Rejected: \t12\n",
      "Iteration: \t17 / 100\n",
      "Confirmed: \t1\n",
      "Tentative: \t1\n",
      "Rejected: \t12\n",
      "Iteration: \t18 / 100\n",
      "Confirmed: \t1\n",
      "Tentative: \t1\n",
      "Rejected: \t12\n",
      "Iteration: \t19 / 100\n",
      "Confirmed: \t1\n",
      "Tentative: \t1\n",
      "Rejected: \t12\n",
      "Iteration: \t20 / 100\n",
      "Confirmed: \t1\n",
      "Tentative: \t1\n",
      "Rejected: \t12\n",
      "Iteration: \t21 / 100\n",
      "Confirmed: \t1\n",
      "Tentative: \t1\n",
      "Rejected: \t12\n",
      "Iteration: \t22 / 100\n",
      "Confirmed: \t1\n",
      "Tentative: \t0\n",
      "Rejected: \t13\n",
      "\n",
      "\n",
      "BorutaPy finished running.\n",
      "\n",
      "Iteration: \t23 / 100\n",
      "Confirmed: \t1\n",
      "Tentative: \t0\n",
      "Rejected: \t13\n"
     ]
    }
   ],
   "source": [
    "# conversion of df/series to numpy and remotion of variables that do not compose training ('cardio_disease')\n",
    "x_train_n = X_train.drop(['cardio_disease'], axis=1).values\n",
    "y_train_n = y_train.values.ravel()\n",
    "\n",
    "# define RandomForestRegressor\n",
    "rf = RandomForestRegressor(n_jobs = -1)\n",
    "\n",
    "# define Boruta\n",
    "boruta = BorutaPy(rf, n_estimators = 'auto', verbose = 2, random_state = 42).fit(x_train_n, y_train_n)"
   ]
  },
  {
   "cell_type": "markdown",
   "metadata": {
    "heading_collapsed": true,
    "hidden": true
   },
   "source": [
    "### 6.2.1. Best Features"
   ]
  },
  {
   "cell_type": "code",
   "execution_count": 63,
   "metadata": {
    "ExecuteTime": {
     "end_time": "2021-01-12T09:58:57.975341Z",
     "start_time": "2021-01-12T09:58:57.966825Z"
    },
    "hidden": true
   },
   "outputs": [],
   "source": [
    "cols_selected = boruta.support_.tolist()\n",
    "\n",
    "# best features\n",
    "X_train_fs = X_train.drop(['cardio_disease'], axis = 1)\n",
    "cols_selected_boruta = X_train_fs.iloc[:, cols_selected].columns.tolist()\n",
    "\n",
    "# unconsidered columns\n",
    "cols_not_selected_boruta = list(np.setdiff1d(X_train_fs.columns, cols_selected_boruta))"
   ]
  },
  {
   "cell_type": "markdown",
   "metadata": {
    "heading_collapsed": true,
    "hidden": true
   },
   "source": [
    "## 6.3. Saving Best Features (Boruta + Selected from EDA)"
   ]
  },
  {
   "cell_type": "code",
   "execution_count": 136,
   "metadata": {
    "ExecuteTime": {
     "end_time": "2021-01-12T10:38:27.045334Z",
     "start_time": "2021-01-12T10:38:27.040662Z"
    },
    "hidden": true
   },
   "outputs": [],
   "source": [
    "cols_selected_boruta = ['systolic_bp', # the only selected by Boruta\n",
    "                        'age',\n",
    "                        'cholesterol',\n",
    "                        'weight_status']\n",
    "\n",
    "#columns to add\n",
    "feat_to_add = ['cardio_disease']\n",
    "\n",
    "#final features\n",
    "cols_selected_boruta_full = cols_selected_boruta.copy()\n",
    "cols_selected_boruta_full.extend( feat_to_add )"
   ]
  },
  {
   "cell_type": "markdown",
   "metadata": {
    "heading_collapsed": true
   },
   "source": [
    "# 7. MACHINE LEARNING MODELS"
   ]
  },
  {
   "cell_type": "code",
   "execution_count": 137,
   "metadata": {
    "ExecuteTime": {
     "end_time": "2021-01-12T10:38:29.239330Z",
     "start_time": "2021-01-12T10:38:29.232231Z"
    },
    "hidden": true
   },
   "outputs": [],
   "source": [
    "x_train = X_train[cols_selected_boruta]\n",
    "x_test = X_test[cols_selected_boruta]"
   ]
  },
  {
   "cell_type": "code",
   "execution_count": 138,
   "metadata": {
    "ExecuteTime": {
     "end_time": "2021-01-12T10:38:30.816140Z",
     "start_time": "2021-01-12T10:38:30.800888Z"
    },
    "hidden": true
   },
   "outputs": [],
   "source": [
    "y_train = y_train.astype('int64')\n",
    "y_test = y_test.astype('int64')"
   ]
  },
  {
   "cell_type": "markdown",
   "metadata": {
    "heading_collapsed": true,
    "hidden": true
   },
   "source": [
    "## 7.1. Logistic Regression"
   ]
  },
  {
   "cell_type": "code",
   "execution_count": 31,
   "metadata": {
    "ExecuteTime": {
     "end_time": "2021-01-12T09:01:07.749136Z",
     "start_time": "2021-01-12T09:01:07.371295Z"
    },
    "hidden": true
   },
   "outputs": [
    {
     "data": {
      "text/plain": [
       "0.7234011521913513"
      ]
     },
     "execution_count": 31,
     "metadata": {},
     "output_type": "execute_result"
    }
   ],
   "source": [
    "# model\n",
    "lr = LogisticRegression()\n",
    "lr.fit(x_train, y_train)\n",
    "\n",
    "# prediction\n",
    "y_hat = lr.predict(x_test)\n",
    "\n",
    "# # performance\n",
    "lr_result = lr.score(x_test, y_test)\n",
    "lr_result"
   ]
  },
  {
   "cell_type": "markdown",
   "metadata": {
    "heading_collapsed": true,
    "hidden": true
   },
   "source": [
    "### 7.1.1.  Logistic Regression - Cross Validation"
   ]
  },
  {
   "cell_type": "code",
   "execution_count": 32,
   "metadata": {
    "ExecuteTime": {
     "end_time": "2021-01-12T09:01:12.733298Z",
     "start_time": "2021-01-12T09:01:09.987106Z"
    },
    "hidden": true
   },
   "outputs": [],
   "source": [
    "cv_lr = cross_val_score(estimator = lr, X = x_train, y = y_train, cv = 10)"
   ]
  },
  {
   "cell_type": "code",
   "execution_count": 47,
   "metadata": {
    "ExecuteTime": {
     "end_time": "2021-01-12T09:24:15.522633Z",
     "start_time": "2021-01-12T09:24:15.518314Z"
    },
    "hidden": true,
    "scrolled": true
   },
   "outputs": [
    {
     "name": "stdout",
     "output_type": "stream",
     "text": [
      "Logistic Regression accuracy:  0.7252769405586618\n",
      "Logistic Regression standart Deviation:  0.005578761642503207\n"
     ]
    }
   ],
   "source": [
    "print(\"Logistic Regression accuracy: \", cv_lr.mean())\n",
    "print(\"Logistic Regression standart Deviation: \", cv_lr.std())\n",
    "\n",
    "lr_result_cv = cv_lr.mean()"
   ]
  },
  {
   "cell_type": "markdown",
   "metadata": {
    "heading_collapsed": true,
    "hidden": true
   },
   "source": [
    "## 7.2. Random Forest Classification"
   ]
  },
  {
   "cell_type": "code",
   "execution_count": 34,
   "metadata": {
    "ExecuteTime": {
     "end_time": "2021-01-12T09:03:43.988743Z",
     "start_time": "2021-01-12T09:03:42.533002Z"
    },
    "hidden": true
   },
   "outputs": [
    {
     "data": {
      "text/plain": [
       "0.7222343761394298"
      ]
     },
     "execution_count": 34,
     "metadata": {},
     "output_type": "execute_result"
    }
   ],
   "source": [
    "# model\n",
    "rf = RandomForestClassifier(n_estimators = 100, n_jobs = -1, random_state = 42).fit(x_train, y_train)\n",
    "\n",
    "# prediction\n",
    "y_hat = rf.predict(x_test)\n",
    "\n",
    "# # performance\n",
    "rf_result = rf.score(x_test, y_test)\n",
    "rf_result"
   ]
  },
  {
   "cell_type": "markdown",
   "metadata": {
    "heading_collapsed": true,
    "hidden": true
   },
   "source": [
    "### 7.1.2. Random Forest - Cross Validation"
   ]
  },
  {
   "cell_type": "code",
   "execution_count": 35,
   "metadata": {
    "ExecuteTime": {
     "end_time": "2021-01-12T09:04:01.262455Z",
     "start_time": "2021-01-12T09:03:45.806983Z"
    },
    "hidden": true
   },
   "outputs": [],
   "source": [
    "cv_rf = cross_val_score(estimator = rf, X = x_train, y = y_train, cv = 10)"
   ]
  },
  {
   "cell_type": "code",
   "execution_count": 46,
   "metadata": {
    "ExecuteTime": {
     "end_time": "2021-01-12T09:24:12.496620Z",
     "start_time": "2021-01-12T09:24:12.489680Z"
    },
    "hidden": true,
    "scrolled": true
   },
   "outputs": [
    {
     "name": "stdout",
     "output_type": "stream",
     "text": [
      "Logistic Regression accuracy:  0.7205182790808696\n",
      "Logistic Regression standart Deviation:  0.00470888301589732\n"
     ]
    }
   ],
   "source": [
    "print(\"Logistic Regression accuracy: \", cv_rf.mean())\n",
    "print(\"Logistic Regression standart Deviation: \", cv_rf.std())\n",
    "\n",
    "rf_result_cv = cv_rf.mean()"
   ]
  },
  {
   "cell_type": "markdown",
   "metadata": {
    "heading_collapsed": true,
    "hidden": true
   },
   "source": [
    "## 7.3. Support Vector Classification"
   ]
  },
  {
   "cell_type": "code",
   "execution_count": 37,
   "metadata": {
    "ExecuteTime": {
     "end_time": "2021-01-12T09:09:02.522396Z",
     "start_time": "2021-01-12T09:07:30.981581Z"
    },
    "hidden": true
   },
   "outputs": [
    {
     "data": {
      "text/plain": [
       "0.7252971632757238"
      ]
     },
     "execution_count": 37,
     "metadata": {},
     "output_type": "execute_result"
    }
   ],
   "source": [
    "# model\n",
    "svc = SVC(random_state = 6).fit(x_train, y_train)\n",
    "\n",
    "# prediction\n",
    "y_hat = svc.predict(x_test)\n",
    "\n",
    "# # performance\n",
    "svc_result = svc.score(x_test, y_test)\n",
    "svc_result"
   ]
  },
  {
   "cell_type": "markdown",
   "metadata": {
    "heading_collapsed": true,
    "hidden": true
   },
   "source": [
    "### 7.1.3. Support Vector Classification - Cross Validation"
   ]
  },
  {
   "cell_type": "code",
   "execution_count": 38,
   "metadata": {
    "ExecuteTime": {
     "end_time": "2021-01-12T09:22:40.744270Z",
     "start_time": "2021-01-12T09:09:55.868333Z"
    },
    "hidden": true
   },
   "outputs": [],
   "source": [
    "cv_svc = cross_val_score(estimator = svc, X = x_train, y = y_train, cv = 10)"
   ]
  },
  {
   "cell_type": "code",
   "execution_count": 44,
   "metadata": {
    "ExecuteTime": {
     "end_time": "2021-01-12T09:23:45.088645Z",
     "start_time": "2021-01-12T09:23:45.081897Z"
    },
    "hidden": true,
    "scrolled": true
   },
   "outputs": [
    {
     "name": "stdout",
     "output_type": "stream",
     "text": [
      "Support Vector Classification accuracy:  0.7205182923788569\n",
      "Support Vector Classification standart Deviation:  0.007586737666395953\n"
     ]
    }
   ],
   "source": [
    "print(\"Support Vector Classification accuracy: \", cv_svc.mean())\n",
    "print(\"Support Vector Classification standart Deviation: \", cv_svc.std())\n",
    "\n",
    "svc_result_cv = cv_svc.mean()"
   ]
  },
  {
   "cell_type": "markdown",
   "metadata": {
    "heading_collapsed": true,
    "hidden": true
   },
   "source": [
    "## 7.4. Compare Model's Performance"
   ]
  },
  {
   "cell_type": "markdown",
   "metadata": {
    "heading_collapsed": true,
    "hidden": true
   },
   "source": [
    "### 7.4.1. Single Performance"
   ]
  },
  {
   "cell_type": "code",
   "execution_count": 48,
   "metadata": {
    "ExecuteTime": {
     "end_time": "2021-01-12T09:24:18.620912Z",
     "start_time": "2021-01-12T09:24:18.604693Z"
    },
    "hidden": true,
    "scrolled": false
   },
   "outputs": [
    {
     "data": {
      "text/html": [
       "<div>\n",
       "<style scoped>\n",
       "    .dataframe tbody tr th:only-of-type {\n",
       "        vertical-align: middle;\n",
       "    }\n",
       "\n",
       "    .dataframe tbody tr th {\n",
       "        vertical-align: top;\n",
       "    }\n",
       "\n",
       "    .dataframe thead th {\n",
       "        text-align: right;\n",
       "    }\n",
       "</style>\n",
       "<table border=\"1\" class=\"dataframe\">\n",
       "  <thead>\n",
       "    <tr style=\"text-align: right;\">\n",
       "      <th></th>\n",
       "      <th>ML Model</th>\n",
       "      <th>Accuracy</th>\n",
       "    </tr>\n",
       "  </thead>\n",
       "  <tbody>\n",
       "    <tr>\n",
       "      <th>2</th>\n",
       "      <td>Support Vector Classification</td>\n",
       "      <td>0.725297</td>\n",
       "    </tr>\n",
       "    <tr>\n",
       "      <th>0</th>\n",
       "      <td>Logistic Regression</td>\n",
       "      <td>0.723401</td>\n",
       "    </tr>\n",
       "    <tr>\n",
       "      <th>1</th>\n",
       "      <td>Random Forest Classification</td>\n",
       "      <td>0.722234</td>\n",
       "    </tr>\n",
       "  </tbody>\n",
       "</table>\n",
       "</div>"
      ],
      "text/plain": [
       "                        ML Model  Accuracy\n",
       "2  Support Vector Classification  0.725297\n",
       "0            Logistic Regression  0.723401\n",
       "1   Random Forest Classification  0.722234"
      ]
     },
     "execution_count": 48,
     "metadata": {},
     "output_type": "execute_result"
    }
   ],
   "source": [
    "modelling_result = pd.DataFrame([['Logistic Regression', 'Random Forest Classification', 'Support Vector Classification'],\n",
    "                    [lr_result, rf_result, svc_result]]).T.rename(columns = {0: 'ML Model', 1: 'Accuracy'})\n",
    "modelling_result.sort_values('Accuracy', ascending = False)"
   ]
  },
  {
   "cell_type": "markdown",
   "metadata": {
    "heading_collapsed": true,
    "hidden": true
   },
   "source": [
    "### 7.4.2. Real Performance (Cross-Validation)"
   ]
  },
  {
   "cell_type": "code",
   "execution_count": 49,
   "metadata": {
    "ExecuteTime": {
     "end_time": "2021-01-12T09:24:20.621550Z",
     "start_time": "2021-01-12T09:24:20.607296Z"
    },
    "hidden": true,
    "scrolled": true
   },
   "outputs": [
    {
     "data": {
      "text/html": [
       "<div>\n",
       "<style scoped>\n",
       "    .dataframe tbody tr th:only-of-type {\n",
       "        vertical-align: middle;\n",
       "    }\n",
       "\n",
       "    .dataframe tbody tr th {\n",
       "        vertical-align: top;\n",
       "    }\n",
       "\n",
       "    .dataframe thead th {\n",
       "        text-align: right;\n",
       "    }\n",
       "</style>\n",
       "<table border=\"1\" class=\"dataframe\">\n",
       "  <thead>\n",
       "    <tr style=\"text-align: right;\">\n",
       "      <th></th>\n",
       "      <th>ML Model</th>\n",
       "      <th>Accuracy</th>\n",
       "    </tr>\n",
       "  </thead>\n",
       "  <tbody>\n",
       "    <tr>\n",
       "      <th>0</th>\n",
       "      <td>Logistic Regression</td>\n",
       "      <td>0.725277</td>\n",
       "    </tr>\n",
       "    <tr>\n",
       "      <th>2</th>\n",
       "      <td>Support Vector Classification</td>\n",
       "      <td>0.720518</td>\n",
       "    </tr>\n",
       "    <tr>\n",
       "      <th>1</th>\n",
       "      <td>Random Forest Classification</td>\n",
       "      <td>0.720518</td>\n",
       "    </tr>\n",
       "  </tbody>\n",
       "</table>\n",
       "</div>"
      ],
      "text/plain": [
       "                        ML Model  Accuracy\n",
       "0            Logistic Regression  0.725277\n",
       "2  Support Vector Classification  0.720518\n",
       "1   Random Forest Classification  0.720518"
      ]
     },
     "execution_count": 49,
     "metadata": {},
     "output_type": "execute_result"
    }
   ],
   "source": [
    "modelling_result_cv = pd.DataFrame([['Logistic Regression', 'Random Forest Classification', 'Support Vector Classification'],\n",
    "                    [lr_result_cv, rf_result_cv, svc_result_cv]]).T.rename(columns = {0: 'ML Model', 1: 'Accuracy'})\n",
    "modelling_result_cv.sort_values('Accuracy', ascending = False)"
   ]
  },
  {
   "cell_type": "markdown",
   "metadata": {
    "heading_collapsed": true
   },
   "source": [
    "# 8. HYPERPARAMETER FINE TUNING"
   ]
  },
  {
   "cell_type": "markdown",
   "metadata": {
    "heading_collapsed": true,
    "hidden": true
   },
   "source": [
    "## 8.1. Grid Search - Logistic Regression"
   ]
  },
  {
   "cell_type": "code",
   "execution_count": 142,
   "metadata": {
    "ExecuteTime": {
     "end_time": "2021-01-12T10:42:28.559595Z",
     "start_time": "2021-01-12T10:42:18.391995Z"
    },
    "hidden": true,
    "scrolled": true
   },
   "outputs": [
    {
     "data": {
      "text/plain": [
       "GridSearchCV(cv=3,\n",
       "             estimator=LogisticRegression(max_iter=200, solver='liblinear'),\n",
       "             param_grid={'C': [0.001, 0.009, 0.01, 0.09, 1, 5, 10, 25],\n",
       "                         'penalty': ['l1', 'l2']})"
      ]
     },
     "execution_count": 142,
     "metadata": {},
     "output_type": "execute_result"
    }
   ],
   "source": [
    "log_reg = LogisticRegression(solver = 'liblinear', max_iter = 200)\n",
    "grid = {'penalty': ['l1', 'l2'], 'C': [0.001,.009,0.01,.09,1,5,10,25]}\n",
    "log_reg_cv = GridSearchCV(log_reg, param_grid = grid, cv = 3)\n",
    "log_reg_cv.fit(x_train, y_train.to_list())"
   ]
  },
  {
   "cell_type": "code",
   "execution_count": 83,
   "metadata": {
    "ExecuteTime": {
     "end_time": "2021-01-12T10:18:47.107694Z",
     "start_time": "2021-01-12T10:18:47.100452Z"
    },
    "hidden": true
   },
   "outputs": [
    {
     "name": "stdout",
     "output_type": "stream",
     "text": [
      "Tuned hyperparameter n_estimators: {'C': 1, 'penalty': 'l1'}\n",
      "Best score: 0.7252771190339399\n"
     ]
    }
   ],
   "source": [
    "# Print hyperparameter\n",
    "print(\"Tuned hyperparameter n_estimators: {}\".format(log_reg_cv.best_params_)) \n",
    "print(\"Best score: {}\".format(log_reg_cv.best_score_))"
   ]
  },
  {
   "cell_type": "markdown",
   "metadata": {
    "heading_collapsed": true,
    "hidden": true
   },
   "source": [
    "## 8.2. Final Model"
   ]
  },
  {
   "cell_type": "code",
   "execution_count": 143,
   "metadata": {
    "ExecuteTime": {
     "end_time": "2021-01-12T10:42:29.097622Z",
     "start_time": "2021-01-12T10:42:28.564462Z"
    },
    "hidden": true
   },
   "outputs": [
    {
     "data": {
      "text/plain": [
       "0.7234011521913513"
      ]
     },
     "execution_count": 143,
     "metadata": {},
     "output_type": "execute_result"
    }
   ],
   "source": [
    "# model\n",
    "lr_tuned = LogisticRegression(solver = 'liblinear', max_iter = 200, penalty = 'l1', C = 1)\n",
    "lr_tuned.fit(x_train, y_train.to_list())\n",
    "\n",
    "# prediction\n",
    "y_hat = lr_tuned.predict(x_test)\n",
    "\n",
    "# # performance\n",
    "lr_result_tuned = lr_tuned.score(x_test, y_test.to_list())\n",
    "lr_result_tuned"
   ]
  },
  {
   "cell_type": "code",
   "execution_count": 145,
   "metadata": {
    "ExecuteTime": {
     "end_time": "2021-01-12T10:42:33.627980Z",
     "start_time": "2021-01-12T10:42:33.386845Z"
    },
    "hidden": true,
    "hide_input": true,
    "scrolled": false
   },
   "outputs": [
    {
     "data": {
      "image/png": "[encoded data removed]",
      "text/plain": [
       "<Figure size 1296x576 with 2 Axes>"
      ]
     },
     "metadata": {},
     "output_type": "display_data"
    }
   ],
   "source": [
    "y_true = y_test\n",
    "y_pred = lr_tuned.predict(x_test)\n",
    "\n",
    "cm = confusion_matrix(y_true, y_pred)\n",
    "\n",
    "sns.heatmap(cm,fmt = \".0f\", annot = True,linewidths = 0.2, linecolor = \"purple\")\n",
    "plt.xlabel(\"Predicted Label\")\n",
    "plt.ylabel(\"True Label\")\n",
    "plt.show()"
   ]
  }
 ],
 "metadata": {
  "kernelspec": {
   "display_name": "Python 3",
   "language": "python",
   "name": "python3"
  },
  "language_info": {
   "codemirror_mode": {
    "name": "ipython",
    "version": 3
   },
   "file_extension": ".py",
   "mimetype": "text/x-python",
   "name": "python",
   "nbconvert_exporter": "python",
   "pygments_lexer": "ipython3",
   "version": "3.8.0"
  }
 },
 "nbformat": 4,
 "nbformat_minor": 4
}
