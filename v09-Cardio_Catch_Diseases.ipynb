{
 "cells": [
  {
   "cell_type": "markdown",
   "metadata": {
    "heading_collapsed": true
   },
   "source": [
    "# Hello there!"
   ]
  },
  {
   "cell_type": "markdown",
   "metadata": {
    "hidden": true
   },
   "source": [
    "The following code was developed for **predicting the presence or absence of cardiovascular disease** based on a dataset containing information of over 70,000 patients.\n",
    "If you which to see more about the project, please go to de [README](https://github.com/diandramelo/Cardio_Catch_Diseases/blob/main/README.md) file and/or the [Storytelling](https://github.com/diandramelo/Cardio_Catch_Diseases/blob/main/Project_Storytelling.pdf) slides presentation. "
   ]
  },
  {
   "cell_type": "markdown",
   "metadata": {
    "heading_collapsed": true
   },
   "source": [
    "# 0. IMPORTS"
   ]
  },
  {
   "cell_type": "markdown",
   "metadata": {
    "heading_collapsed": true,
    "hidden": true
   },
   "source": [
    "## 0.1. Load Libraries"
   ]
  },
  {
   "cell_type": "code",
   "execution_count": 94,
   "metadata": {
    "ExecuteTime": {
     "end_time": "2021-01-29T10:11:25.754442Z",
     "start_time": "2021-01-29T10:11:25.743919Z"
    },
    "hidden": true
   },
   "outputs": [],
   "source": [
    "# data analysis / cleaning / visualization\n",
    "import pandas as pd\n",
    "import matplotlib.pyplot as plt\n",
    "import seaborn as sns\n",
    "\n",
    "# feature selection\n",
    "from boruta                  import BorutaPy\n",
    "\n",
    "# feature engineering\n",
    "from sklearn                 import preprocessing, metrics\n",
    "from scipy.stats             import chi2_contingency\n",
    "from sklearn.preprocessing   import MinMaxScaler, RobustScaler\n",
    "\n",
    "# pre-modelling\n",
    "from sklearn.model_selection import train_test_split, GridSearchCV\n",
    "\n",
    "# machine learning models\n",
    "from sklearn.ensemble        import RandomForestRegressor, RandomForestClassifier\n",
    "from sklearn.linear_model    import LogisticRegression\n",
    "from sklearn.svm             import SVC\n",
    "\n",
    "# metrics\n",
    "from sklearn.metrics         import accuracy_score, precision_score, recall_score, f1_score, roc_auc_score\n",
    "from sklearn.metrics         import confusion_matrix\n",
    "\n",
    "# cross-validation\n",
    "from sklearn.model_selection import StratifiedKFold, cross_val_score\n",
    "\n",
    "# visualization tools\n",
    "from IPython.display         import Image\n",
    "from tabulate                import tabulate"
   ]
  },
  {
   "cell_type": "markdown",
   "metadata": {
    "ExecuteTime": {
     "end_time": "2020-12-18T08:52:19.072932Z",
     "start_time": "2020-12-18T08:52:19.069947Z"
    },
    "heading_collapsed": true,
    "hidden": true
   },
   "source": [
    "## 0.2. Data Import"
   ]
  },
  {
   "cell_type": "code",
   "execution_count": 2,
   "metadata": {
    "ExecuteTime": {
     "end_time": "2021-01-28T09:38:17.394664Z",
     "start_time": "2021-01-28T09:38:17.181072Z"
    },
    "hidden": true
   },
   "outputs": [],
   "source": [
    "df_train = pd.read_csv('data/cardio_train.csv', delimiter = ';')"
   ]
  },
  {
   "cell_type": "markdown",
   "metadata": {
    "heading_collapsed": true,
    "hidden": true
   },
   "source": [
    "## 0.3. Helper Functions"
   ]
  },
  {
   "cell_type": "code",
   "execution_count": 97,
   "metadata": {
    "ExecuteTime": {
     "end_time": "2021-01-29T10:15:07.155975Z",
     "start_time": "2021-01-29T10:15:07.141864Z"
    },
    "hidden": true
   },
   "outputs": [],
   "source": [
    "def cramer_v(var1,var2):\n",
    "    crosstab = np.array(pd.crosstab(var1, var2, rownames=None, colnames=None)) # Crosstab building\n",
    "    chi2 = chi2_contingency(crosstab)[0]\n",
    "    n = np.sum(crosstab)\n",
    "    phi2 = chi2 / n\n",
    "    r, k = crosstab.shape\n",
    "    phi2corr = max(0, phi2 - ((k-1)*(r-1))/(n-1))\n",
    "    rcorr = r - ((r-1)**2)/(n-1) \n",
    "    kcorr = k - ((k-1)**2)/(n-1)\n",
    "    return np.sqrt(phi2corr / min((kcorr-1), (rcorr-1)))\n",
    "\n",
    "def ml_performance(model_name, y, yhat):\n",
    "    accuracy = accuracy_score(y, yhat)\n",
    "    precision = precision_score(y, yhat)\n",
    "    recall = recall_score(y, yhat)\n",
    "    f1 = f1_score(y, yhat)\n",
    "    roc_auc = roc_auc_score(y, yhat)\n",
    "    \n",
    "    return pd.DataFrame({'Model Name': model_name, \n",
    "                         'Accuracy': accuracy, \n",
    "                         'Precision': precision,\n",
    "                         'Recall': recall,\n",
    "                         'F1 Score': f1,\n",
    "                         'AUC ROC': roc_auc}, index = [0])\n",
    "\n",
    "def cross_validation(model_name, model, x, y, cv):\n",
    "    cv_accuracy = cross_val_score(model, x, y, cv = cv, scoring = 'accuracy', n_jobs = -1).mean()\n",
    "    cv_precision = cross_val_score(model, x, y, cv = cv, scoring = 'precision', n_jobs = -1).mean()\n",
    "    cv_recall = cross_val_score(model, x, y, cv = cv, scoring = 'recall', n_jobs = -1).mean()\n",
    "    cv_f1 = cross_val_score(model, x, y, cv = cv, scoring = 'f1', n_jobs = -1).mean()\n",
    "    cv_roc_auc = cross_val_score(model, x, y, cv = cv, scoring = 'roc_auc', n_jobs = -1).mean()\n",
    "    \n",
    "    # for future addition of std:\n",
    "    # accuracy_cv = cross_val_score(n, X, y, cv = cv, scoring='accuracy', n_jobs=-1)\n",
    "    # accuracy = \"{:.4f} +/- %{:.4f}\".format(accuracy_cv.mean(), accuracy_cv.std())\n",
    "    \n",
    "    return pd.DataFrame({'Model Name': model_name, \n",
    "                         'Accuracy': cv_accuracy, \n",
    "                         'Precision': cv_precision,\n",
    "                         'Recall': cv_recall,\n",
    "                         'F1 Score': cv_f1,\n",
    "                         'AUC ROC': cv_roc_auc}, index = [0])"
   ]
  },
  {
   "cell_type": "markdown",
   "metadata": {
    "heading_collapsed": true,
    "hidden": true
   },
   "source": [
    "## 0.4. Graph visualization"
   ]
  },
  {
   "cell_type": "code",
   "execution_count": 4,
   "metadata": {
    "ExecuteTime": {
     "end_time": "2021-01-28T09:38:17.443747Z",
     "start_time": "2021-01-28T09:38:17.414941Z"
    },
    "hidden": true
   },
   "outputs": [
    {
     "name": "stdout",
     "output_type": "stream",
     "text": [
      "Populating the interactive namespace from numpy and matplotlib\n"
     ]
    },
    {
     "data": {
      "text/html": [
       "<style>.container { width:100% !important; }</style>"
      ],
      "text/plain": [
       "<IPython.core.display.HTML object>"
      ]
     },
     "metadata": {},
     "output_type": "display_data"
    }
   ],
   "source": [
    "from IPython.core.display import HTML\n",
    "\n",
    "def jupyter_settings():\n",
    "   %matplotlib inline\n",
    "   %pylab inline\n",
    "   plt.style.use( 'bmh' )\n",
    "   plt.rcParams['figure.figsize'] = [18, 8]\n",
    "   plt.rcParams['font.size'] = 20\n",
    "   display( HTML( '<style>.container { width:100% !important; }</style>') )\n",
    "   pd.options.display.max_columns = None\n",
    "   pd.options.display.max_rows = None\n",
    "   pd.set_option( 'display.expand_frame_repr', False )\n",
    "   sns.set()\n",
    "    \n",
    "jupyter_settings()"
   ]
  },
  {
   "cell_type": "markdown",
   "metadata": {
    "heading_collapsed": true
   },
   "source": [
    "# 1. DESCRIBE DATA "
   ]
  },
  {
   "cell_type": "code",
   "execution_count": 5,
   "metadata": {
    "ExecuteTime": {
     "end_time": "2021-01-28T09:38:20.007926Z",
     "start_time": "2021-01-28T09:38:20.001532Z"
    },
    "hidden": true
   },
   "outputs": [],
   "source": [
    "df1 = df_train.copy()"
   ]
  },
  {
   "cell_type": "code",
   "execution_count": 6,
   "metadata": {
    "ExecuteTime": {
     "end_time": "2021-01-28T09:38:21.598082Z",
     "start_time": "2021-01-28T09:38:21.493223Z"
    },
    "hidden": true,
    "hide_input": true
   },
   "outputs": [
    {
     "data": {
      "text/html": [
       "<div>\n",
       "<style scoped>\n",
       "    .dataframe tbody tr th:only-of-type {\n",
       "        vertical-align: middle;\n",
       "    }\n",
       "\n",
       "    .dataframe tbody tr th {\n",
       "        vertical-align: top;\n",
       "    }\n",
       "\n",
       "    .dataframe thead th {\n",
       "        text-align: right;\n",
       "    }\n",
       "</style>\n",
       "<table border=\"1\" class=\"dataframe\">\n",
       "  <thead>\n",
       "    <tr style=\"text-align: right;\">\n",
       "      <th></th>\n",
       "      <th>id</th>\n",
       "      <th>age</th>\n",
       "      <th>gender</th>\n",
       "      <th>height</th>\n",
       "      <th>weight</th>\n",
       "      <th>ap_hi</th>\n",
       "      <th>ap_lo</th>\n",
       "      <th>cholesterol</th>\n",
       "      <th>gluc</th>\n",
       "      <th>smoke</th>\n",
       "      <th>alco</th>\n",
       "      <th>active</th>\n",
       "      <th>cardio</th>\n",
       "    </tr>\n",
       "  </thead>\n",
       "  <tbody>\n",
       "    <tr>\n",
       "      <th>0</th>\n",
       "      <td>0</td>\n",
       "      <td>18393</td>\n",
       "      <td>2</td>\n",
       "      <td>168</td>\n",
       "      <td>62.0</td>\n",
       "      <td>110</td>\n",
       "      <td>80</td>\n",
       "      <td>1</td>\n",
       "      <td>1</td>\n",
       "      <td>0</td>\n",
       "      <td>0</td>\n",
       "      <td>1</td>\n",
       "      <td>0</td>\n",
       "    </tr>\n",
       "    <tr>\n",
       "      <th>1</th>\n",
       "      <td>1</td>\n",
       "      <td>20228</td>\n",
       "      <td>1</td>\n",
       "      <td>156</td>\n",
       "      <td>85.0</td>\n",
       "      <td>140</td>\n",
       "      <td>90</td>\n",
       "      <td>3</td>\n",
       "      <td>1</td>\n",
       "      <td>0</td>\n",
       "      <td>0</td>\n",
       "      <td>1</td>\n",
       "      <td>1</td>\n",
       "    </tr>\n",
       "    <tr>\n",
       "      <th>2</th>\n",
       "      <td>2</td>\n",
       "      <td>18857</td>\n",
       "      <td>1</td>\n",
       "      <td>165</td>\n",
       "      <td>64.0</td>\n",
       "      <td>130</td>\n",
       "      <td>70</td>\n",
       "      <td>3</td>\n",
       "      <td>1</td>\n",
       "      <td>0</td>\n",
       "      <td>0</td>\n",
       "      <td>0</td>\n",
       "      <td>1</td>\n",
       "    </tr>\n",
       "    <tr>\n",
       "      <th>3</th>\n",
       "      <td>3</td>\n",
       "      <td>17623</td>\n",
       "      <td>2</td>\n",
       "      <td>169</td>\n",
       "      <td>82.0</td>\n",
       "      <td>150</td>\n",
       "      <td>100</td>\n",
       "      <td>1</td>\n",
       "      <td>1</td>\n",
       "      <td>0</td>\n",
       "      <td>0</td>\n",
       "      <td>1</td>\n",
       "      <td>1</td>\n",
       "    </tr>\n",
       "    <tr>\n",
       "      <th>4</th>\n",
       "      <td>4</td>\n",
       "      <td>17474</td>\n",
       "      <td>1</td>\n",
       "      <td>156</td>\n",
       "      <td>56.0</td>\n",
       "      <td>100</td>\n",
       "      <td>60</td>\n",
       "      <td>1</td>\n",
       "      <td>1</td>\n",
       "      <td>0</td>\n",
       "      <td>0</td>\n",
       "      <td>0</td>\n",
       "      <td>0</td>\n",
       "    </tr>\n",
       "  </tbody>\n",
       "</table>\n",
       "</div>"
      ],
      "text/plain": [
       "   id    age  gender  height  weight  ap_hi  ap_lo  cholesterol  gluc  smoke  alco  active  cardio\n",
       "0   0  18393       2     168    62.0    110     80            1     1      0     0       1       0\n",
       "1   1  20228       1     156    85.0    140     90            3     1      0     0       1       1\n",
       "2   2  18857       1     165    64.0    130     70            3     1      0     0       0       1\n",
       "3   3  17623       2     169    82.0    150    100            1     1      0     0       1       1\n",
       "4   4  17474       1     156    56.0    100     60            1     1      0     0       0       0"
      ]
     },
     "execution_count": 6,
     "metadata": {},
     "output_type": "execute_result"
    }
   ],
   "source": [
    "df1.head()"
   ]
  },
  {
   "cell_type": "markdown",
   "metadata": {
    "heading_collapsed": true,
    "hidden": true
   },
   "source": [
    "## 1.1. Rename Columns"
   ]
  },
  {
   "cell_type": "code",
   "execution_count": 7,
   "metadata": {
    "ExecuteTime": {
     "end_time": "2021-01-28T09:38:22.646240Z",
     "start_time": "2021-01-28T09:38:22.631982Z"
    },
    "hidden": true
   },
   "outputs": [],
   "source": [
    "cols_old = ['id', 'age', 'gender', 'height', 'weight', 'ap_hi', 'ap_lo', 'cholesterol', 'gluc', 'smoke', \n",
    "            'alco', 'active', 'cardio']\n",
    "\n",
    "df1 = df1.rename(columns = {'ap_hi': 'systolic_bp', 'ap_lo': 'diastolic_bp', 'gluc': 'glucose', \n",
    "                     'smoke': 'smoking', 'alco': 'alcohol_intake','active': 'physical_activity', \n",
    "                     'cardio': 'cardio_disease'})"
   ]
  },
  {
   "cell_type": "code",
   "execution_count": 8,
   "metadata": {
    "ExecuteTime": {
     "end_time": "2021-01-28T09:38:23.092435Z",
     "start_time": "2021-01-28T09:38:23.076461Z"
    },
    "hidden": true,
    "hide_input": true,
    "scrolled": false
   },
   "outputs": [
    {
     "data": {
      "text/html": [
       "<div>\n",
       "<style scoped>\n",
       "    .dataframe tbody tr th:only-of-type {\n",
       "        vertical-align: middle;\n",
       "    }\n",
       "\n",
       "    .dataframe tbody tr th {\n",
       "        vertical-align: top;\n",
       "    }\n",
       "\n",
       "    .dataframe thead th {\n",
       "        text-align: right;\n",
       "    }\n",
       "</style>\n",
       "<table border=\"1\" class=\"dataframe\">\n",
       "  <thead>\n",
       "    <tr style=\"text-align: right;\">\n",
       "      <th></th>\n",
       "      <th>id</th>\n",
       "      <th>age</th>\n",
       "      <th>gender</th>\n",
       "      <th>height</th>\n",
       "      <th>weight</th>\n",
       "      <th>systolic_bp</th>\n",
       "      <th>diastolic_bp</th>\n",
       "      <th>cholesterol</th>\n",
       "      <th>glucose</th>\n",
       "      <th>smoking</th>\n",
       "      <th>alcohol_intake</th>\n",
       "      <th>physical_activity</th>\n",
       "      <th>cardio_disease</th>\n",
       "    </tr>\n",
       "  </thead>\n",
       "  <tbody>\n",
       "    <tr>\n",
       "      <th>0</th>\n",
       "      <td>0</td>\n",
       "      <td>18393</td>\n",
       "      <td>2</td>\n",
       "      <td>168</td>\n",
       "      <td>62.0</td>\n",
       "      <td>110</td>\n",
       "      <td>80</td>\n",
       "      <td>1</td>\n",
       "      <td>1</td>\n",
       "      <td>0</td>\n",
       "      <td>0</td>\n",
       "      <td>1</td>\n",
       "      <td>0</td>\n",
       "    </tr>\n",
       "    <tr>\n",
       "      <th>1</th>\n",
       "      <td>1</td>\n",
       "      <td>20228</td>\n",
       "      <td>1</td>\n",
       "      <td>156</td>\n",
       "      <td>85.0</td>\n",
       "      <td>140</td>\n",
       "      <td>90</td>\n",
       "      <td>3</td>\n",
       "      <td>1</td>\n",
       "      <td>0</td>\n",
       "      <td>0</td>\n",
       "      <td>1</td>\n",
       "      <td>1</td>\n",
       "    </tr>\n",
       "    <tr>\n",
       "      <th>2</th>\n",
       "      <td>2</td>\n",
       "      <td>18857</td>\n",
       "      <td>1</td>\n",
       "      <td>165</td>\n",
       "      <td>64.0</td>\n",
       "      <td>130</td>\n",
       "      <td>70</td>\n",
       "      <td>3</td>\n",
       "      <td>1</td>\n",
       "      <td>0</td>\n",
       "      <td>0</td>\n",
       "      <td>0</td>\n",
       "      <td>1</td>\n",
       "    </tr>\n",
       "    <tr>\n",
       "      <th>3</th>\n",
       "      <td>3</td>\n",
       "      <td>17623</td>\n",
       "      <td>2</td>\n",
       "      <td>169</td>\n",
       "      <td>82.0</td>\n",
       "      <td>150</td>\n",
       "      <td>100</td>\n",
       "      <td>1</td>\n",
       "      <td>1</td>\n",
       "      <td>0</td>\n",
       "      <td>0</td>\n",
       "      <td>1</td>\n",
       "      <td>1</td>\n",
       "    </tr>\n",
       "    <tr>\n",
       "      <th>4</th>\n",
       "      <td>4</td>\n",
       "      <td>17474</td>\n",
       "      <td>1</td>\n",
       "      <td>156</td>\n",
       "      <td>56.0</td>\n",
       "      <td>100</td>\n",
       "      <td>60</td>\n",
       "      <td>1</td>\n",
       "      <td>1</td>\n",
       "      <td>0</td>\n",
       "      <td>0</td>\n",
       "      <td>0</td>\n",
       "      <td>0</td>\n",
       "    </tr>\n",
       "  </tbody>\n",
       "</table>\n",
       "</div>"
      ],
      "text/plain": [
       "   id    age  gender  height  weight  systolic_bp  diastolic_bp  cholesterol  glucose  smoking  alcohol_intake  physical_activity  cardio_disease\n",
       "0   0  18393       2     168    62.0          110            80            1        1        0               0                  1               0\n",
       "1   1  20228       1     156    85.0          140            90            3        1        0               0                  1               1\n",
       "2   2  18857       1     165    64.0          130            70            3        1        0               0                  0               1\n",
       "3   3  17623       2     169    82.0          150           100            1        1        0               0                  1               1\n",
       "4   4  17474       1     156    56.0          100            60            1        1        0               0                  0               0"
      ]
     },
     "execution_count": 8,
     "metadata": {},
     "output_type": "execute_result"
    }
   ],
   "source": [
    "df1.head()"
   ]
  },
  {
   "cell_type": "markdown",
   "metadata": {
    "heading_collapsed": true,
    "hidden": true
   },
   "source": [
    "## 1.2. Data Dimensions"
   ]
  },
  {
   "cell_type": "code",
   "execution_count": 9,
   "metadata": {
    "ExecuteTime": {
     "end_time": "2021-01-28T09:38:25.584634Z",
     "start_time": "2021-01-28T09:38:25.579938Z"
    },
    "hidden": true,
    "hide_input": true,
    "scrolled": true
   },
   "outputs": [
    {
     "name": "stdout",
     "output_type": "stream",
     "text": [
      "Number of rows: 70000\n",
      "Number of columns: 13\n"
     ]
    }
   ],
   "source": [
    "print('Number of rows: {}'.format(df1.shape[0]))\n",
    "print('Number of columns: {}'.format(df1.shape[1]))"
   ]
  },
  {
   "cell_type": "markdown",
   "metadata": {
    "heading_collapsed": true,
    "hidden": true
   },
   "source": [
    "## 1.3. Data Types"
   ]
  },
  {
   "cell_type": "code",
   "execution_count": 10,
   "metadata": {
    "ExecuteTime": {
     "end_time": "2021-01-28T09:38:26.511954Z",
     "start_time": "2021-01-28T09:38:26.506307Z"
    },
    "hidden": true,
    "hide_input": true,
    "scrolled": true
   },
   "outputs": [
    {
     "data": {
      "text/plain": [
       "id                     int64\n",
       "age                    int64\n",
       "gender                 int64\n",
       "height                 int64\n",
       "weight               float64\n",
       "systolic_bp            int64\n",
       "diastolic_bp           int64\n",
       "cholesterol            int64\n",
       "glucose                int64\n",
       "smoking                int64\n",
       "alcohol_intake         int64\n",
       "physical_activity      int64\n",
       "cardio_disease         int64\n",
       "dtype: object"
      ]
     },
     "execution_count": 10,
     "metadata": {},
     "output_type": "execute_result"
    }
   ],
   "source": [
    "df1.dtypes"
   ]
  },
  {
   "cell_type": "markdown",
   "metadata": {
    "heading_collapsed": true,
    "hidden": true
   },
   "source": [
    "## 1.4. Check NA"
   ]
  },
  {
   "cell_type": "code",
   "execution_count": 11,
   "metadata": {
    "ExecuteTime": {
     "end_time": "2021-01-28T09:38:27.492102Z",
     "start_time": "2021-01-28T09:38:27.485035Z"
    },
    "hidden": true,
    "hide_input": true,
    "scrolled": true
   },
   "outputs": [
    {
     "data": {
      "text/plain": [
       "id                   0\n",
       "age                  0\n",
       "gender               0\n",
       "height               0\n",
       "weight               0\n",
       "systolic_bp          0\n",
       "diastolic_bp         0\n",
       "cholesterol          0\n",
       "glucose              0\n",
       "smoking              0\n",
       "alcohol_intake       0\n",
       "physical_activity    0\n",
       "cardio_disease       0\n",
       "dtype: int64"
      ]
     },
     "execution_count": 11,
     "metadata": {},
     "output_type": "execute_result"
    }
   ],
   "source": [
    "df1.isna().sum()"
   ]
  },
  {
   "cell_type": "markdown",
   "metadata": {
    "heading_collapsed": true,
    "hidden": true
   },
   "source": [
    "## 1.5. Fillout NA\n",
    "(Not necessary)"
   ]
  },
  {
   "cell_type": "markdown",
   "metadata": {
    "heading_collapsed": true,
    "hidden": true
   },
   "source": [
    "## 1.6. Change Data Type"
   ]
  },
  {
   "cell_type": "code",
   "execution_count": 12,
   "metadata": {
    "ExecuteTime": {
     "end_time": "2021-01-28T09:38:28.855648Z",
     "start_time": "2021-01-28T09:38:28.810884Z"
    },
    "hidden": true,
    "hide_input": false
   },
   "outputs": [],
   "source": [
    "df1[['gender', 'cholesterol', 'glucose', 'smoking', 'alcohol_intake', 'physical_activity', \n",
    "          'cardio_disease']] = df1[['gender', 'cholesterol', 'glucose', 'smoking', 'alcohol_intake', \n",
    "          'physical_activity', 'cardio_disease']].astype('object')"
   ]
  },
  {
   "cell_type": "code",
   "execution_count": 13,
   "metadata": {
    "ExecuteTime": {
     "end_time": "2021-01-28T09:38:29.800806Z",
     "start_time": "2021-01-28T09:38:29.792632Z"
    },
    "hidden": true,
    "hide_input": true,
    "scrolled": true
   },
   "outputs": [
    {
     "data": {
      "text/plain": [
       "id                     int64\n",
       "age                    int64\n",
       "gender                object\n",
       "height                 int64\n",
       "weight               float64\n",
       "systolic_bp            int64\n",
       "diastolic_bp           int64\n",
       "cholesterol           object\n",
       "glucose               object\n",
       "smoking               object\n",
       "alcohol_intake        object\n",
       "physical_activity     object\n",
       "cardio_disease        object\n",
       "dtype: object"
      ]
     },
     "execution_count": 13,
     "metadata": {},
     "output_type": "execute_result"
    }
   ],
   "source": [
    "df1.dtypes"
   ]
  },
  {
   "cell_type": "markdown",
   "metadata": {
    "heading_collapsed": true,
    "hidden": true
   },
   "source": [
    "## 1.7. Descriptive Statistics\n"
   ]
  },
  {
   "cell_type": "code",
   "execution_count": 14,
   "metadata": {
    "ExecuteTime": {
     "end_time": "2021-01-28T09:38:31.233379Z",
     "start_time": "2021-01-28T09:38:31.211845Z"
    },
    "hidden": true
   },
   "outputs": [],
   "source": [
    "num_attributes = df1.select_dtypes(include = ['int64', 'float64'])\n",
    "cat_attributes = df1.select_dtypes(exclude = ['int64', 'float64'])"
   ]
  },
  {
   "cell_type": "markdown",
   "metadata": {
    "heading_collapsed": true,
    "hidden": true
   },
   "source": [
    "### 1.7.1. Numerical Variables"
   ]
  },
  {
   "cell_type": "code",
   "execution_count": 15,
   "metadata": {
    "ExecuteTime": {
     "end_time": "2021-01-28T09:38:32.394210Z",
     "start_time": "2021-01-28T09:38:32.304229Z"
    },
    "hidden": true,
    "hide_input": true
   },
   "outputs": [
    {
     "data": {
      "text/html": [
       "<div>\n",
       "<style scoped>\n",
       "    .dataframe tbody tr th:only-of-type {\n",
       "        vertical-align: middle;\n",
       "    }\n",
       "\n",
       "    .dataframe tbody tr th {\n",
       "        vertical-align: top;\n",
       "    }\n",
       "\n",
       "    .dataframe thead th {\n",
       "        text-align: right;\n",
       "    }\n",
       "</style>\n",
       "<table border=\"1\" class=\"dataframe\">\n",
       "  <thead>\n",
       "    <tr style=\"text-align: right;\">\n",
       "      <th></th>\n",
       "      <th>mean</th>\n",
       "      <th>median</th>\n",
       "      <th>std</th>\n",
       "      <th>min</th>\n",
       "      <th>max</th>\n",
       "      <th>range</th>\n",
       "      <th>skew</th>\n",
       "      <th>kurtosis</th>\n",
       "    </tr>\n",
       "  </thead>\n",
       "  <tbody>\n",
       "    <tr>\n",
       "      <th>id</th>\n",
       "      <td>49972.419900</td>\n",
       "      <td>50001.5</td>\n",
       "      <td>28851.302323</td>\n",
       "      <td>0.0</td>\n",
       "      <td>99999.0</td>\n",
       "      <td>99999.0</td>\n",
       "      <td>-0.001278</td>\n",
       "      <td>-1.198374</td>\n",
       "    </tr>\n",
       "    <tr>\n",
       "      <th>age</th>\n",
       "      <td>19468.865814</td>\n",
       "      <td>19703.0</td>\n",
       "      <td>2467.251667</td>\n",
       "      <td>10798.0</td>\n",
       "      <td>23713.0</td>\n",
       "      <td>12915.0</td>\n",
       "      <td>-0.307055</td>\n",
       "      <td>-0.823447</td>\n",
       "    </tr>\n",
       "    <tr>\n",
       "      <th>height</th>\n",
       "      <td>164.359229</td>\n",
       "      <td>165.0</td>\n",
       "      <td>8.210126</td>\n",
       "      <td>55.0</td>\n",
       "      <td>250.0</td>\n",
       "      <td>195.0</td>\n",
       "      <td>-0.642187</td>\n",
       "      <td>7.943653</td>\n",
       "    </tr>\n",
       "    <tr>\n",
       "      <th>weight</th>\n",
       "      <td>74.205690</td>\n",
       "      <td>72.0</td>\n",
       "      <td>14.395757</td>\n",
       "      <td>10.0</td>\n",
       "      <td>200.0</td>\n",
       "      <td>190.0</td>\n",
       "      <td>1.012070</td>\n",
       "      <td>2.586825</td>\n",
       "    </tr>\n",
       "    <tr>\n",
       "      <th>systolic_bp</th>\n",
       "      <td>128.817286</td>\n",
       "      <td>120.0</td>\n",
       "      <td>154.011419</td>\n",
       "      <td>-150.0</td>\n",
       "      <td>16020.0</td>\n",
       "      <td>16170.0</td>\n",
       "      <td>85.296214</td>\n",
       "      <td>7580.074738</td>\n",
       "    </tr>\n",
       "    <tr>\n",
       "      <th>diastolic_bp</th>\n",
       "      <td>96.630414</td>\n",
       "      <td>80.0</td>\n",
       "      <td>188.472530</td>\n",
       "      <td>-70.0</td>\n",
       "      <td>11000.0</td>\n",
       "      <td>11070.0</td>\n",
       "      <td>32.114083</td>\n",
       "      <td>1425.914585</td>\n",
       "    </tr>\n",
       "  </tbody>\n",
       "</table>\n",
       "</div>"
      ],
      "text/plain": [
       "                      mean   median           std      min      max    range       skew     kurtosis\n",
       "id            49972.419900  50001.5  28851.302323      0.0  99999.0  99999.0  -0.001278    -1.198374\n",
       "age           19468.865814  19703.0   2467.251667  10798.0  23713.0  12915.0  -0.307055    -0.823447\n",
       "height          164.359229    165.0      8.210126     55.0    250.0    195.0  -0.642187     7.943653\n",
       "weight           74.205690     72.0     14.395757     10.0    200.0    190.0   1.012070     2.586825\n",
       "systolic_bp     128.817286    120.0    154.011419   -150.0  16020.0  16170.0  85.296214  7580.074738\n",
       "diastolic_bp     96.630414     80.0    188.472530    -70.0  11000.0  11070.0  32.114083  1425.914585"
      ]
     },
     "execution_count": 15,
     "metadata": {},
     "output_type": "execute_result"
    }
   ],
   "source": [
    "# Central Tendency - Mean, Median\n",
    "ct1 = pd.DataFrame(num_attributes.mean())\n",
    "ct2 = pd.DataFrame(num_attributes.median())\n",
    "\n",
    "# Dispersion - Std, Min, Max, Range, Skew, Kurtosis\n",
    "d1 = pd.DataFrame(num_attributes.std())\n",
    "d2 = pd.DataFrame(num_attributes.min())\n",
    "d3 = pd.DataFrame(num_attributes.max())\n",
    "d4 = pd.DataFrame(num_attributes.max() - num_attributes.min())\n",
    "d5 = pd.DataFrame(num_attributes.skew())\n",
    "d6 = pd.DataFrame(num_attributes.kurtosis())\n",
    "\n",
    "# concat\n",
    "df_num = pd.concat([ct1, ct2, d1, d2, d3, d4, d5, d6], axis = 1)\n",
    "df_num.columns = ['mean', 'median', 'std', 'min', 'max', 'range', 'skew', 'kurtosis']\n",
    "df_num"
   ]
  },
  {
   "cell_type": "markdown",
   "metadata": {
    "heading_collapsed": true,
    "hidden": true
   },
   "source": [
    "### 1.7.2. Categorical Variables"
   ]
  },
  {
   "cell_type": "code",
   "execution_count": 16,
   "metadata": {
    "ExecuteTime": {
     "end_time": "2021-01-28T09:38:33.143730Z",
     "start_time": "2021-01-28T09:38:33.114321Z"
    },
    "hidden": true,
    "hide_input": true
   },
   "outputs": [
    {
     "data": {
      "text/plain": [
       "gender               2\n",
       "cholesterol          3\n",
       "glucose              3\n",
       "smoking              2\n",
       "alcohol_intake       2\n",
       "physical_activity    2\n",
       "cardio_disease       2\n",
       "dtype: int64"
      ]
     },
     "execution_count": 16,
     "metadata": {},
     "output_type": "execute_result"
    }
   ],
   "source": [
    "cat_attributes.apply( lambda x: x.unique().shape[0])"
   ]
  },
  {
   "cell_type": "code",
   "execution_count": 17,
   "metadata": {
    "ExecuteTime": {
     "end_time": "2021-01-28T09:38:47.364857Z",
     "start_time": "2021-01-28T09:38:35.820067Z"
    },
    "hidden": true,
    "hide_input": true,
    "scrolled": false
   },
   "outputs": [
    {
     "data": {
      "image/png": "[encoded data removed]",
      "text/plain": [
       "<Figure size 1296x576 with 3 Axes>"
      ]
     },
     "metadata": {},
     "output_type": "display_data"
    }
   ],
   "source": [
    "plt.subplot(1,3,1)\n",
    "sns.barplot(x = \"gender\", y = \"cardio_disease\", data = df1);\n",
    "\n",
    "plt.subplot(1,3,2)\n",
    "sns.barplot(x = \"cholesterol\", y = \"cardio_disease\", data = df1);\n",
    "\n",
    "plt.subplot(1,3,3)\n",
    "sns.barplot(x = \"smoking\", y = \"cardio_disease\", data = df1);"
   ]
  },
  {
   "cell_type": "markdown",
   "metadata": {
    "heading_collapsed": true
   },
   "source": [
    "# 2. FEATURE ENGINEERING"
   ]
  },
  {
   "cell_type": "code",
   "execution_count": 18,
   "metadata": {
    "ExecuteTime": {
     "end_time": "2021-01-28T09:39:05.697387Z",
     "start_time": "2021-01-28T09:39:05.689433Z"
    },
    "hidden": true
   },
   "outputs": [],
   "source": [
    "df2 = df1.copy()"
   ]
  },
  {
   "cell_type": "markdown",
   "metadata": {
    "heading_collapsed": true,
    "hidden": true
   },
   "source": [
    "## 2.1. Hypothesis Mind Map"
   ]
  },
  {
   "cell_type": "code",
   "execution_count": 17,
   "metadata": {
    "ExecuteTime": {
     "end_time": "2020-12-22T08:07:22.382884Z",
     "start_time": "2020-12-22T08:07:22.318176Z"
    },
    "hidden": true,
    "hide_input": true
   },
   "outputs": [
    {
     "data": {
      "image/png": "[encoded data removed]",
      "text/plain": [
       "<IPython.core.display.Image object>"
      ]
     },
     "execution_count": 17,
     "metadata": {},
     "output_type": "execute_result"
    }
   ],
   "source": [
    "Image(filename='img/CARDIOVASCULAR_DISEASES.png')"
   ]
  },
  {
   "cell_type": "markdown",
   "metadata": {
    "heading_collapsed": true,
    "hidden": true
   },
   "source": [
    "## 2.2. Hypothesis Development"
   ]
  },
  {
   "cell_type": "markdown",
   "metadata": {
    "heading_collapsed": true,
    "hidden": true
   },
   "source": [
    "### 2.2.1. Objective Features"
   ]
  },
  {
   "cell_type": "markdown",
   "metadata": {
    "hidden": true
   },
   "source": [
    "**1.** People with **some genetic predisposition** are **most likely to present** cardiovascular diseases.\n",
    "\n",
    "**2.** **Men** are most likely to **present** cardiovascular diseases.\n",
    "\n",
    "**3.** People with **overweight** are **most likely to present** cardiovascular diseases.\n",
    "\n",
    "**4.** **Older** people are **most likely to present** cardiovascular diseases."
   ]
  },
  {
   "cell_type": "markdown",
   "metadata": {
    "heading_collapsed": true,
    "hidden": true
   },
   "source": [
    "### 2.2.2. Subjective Features"
   ]
  },
  {
   "cell_type": "markdown",
   "metadata": {
    "hidden": true
   },
   "source": [
    "**1.** People dealing with more daily **stress** are **most likely to present** cardiovascular diseases.\n",
    "\n",
    "**2.** People who **drink alcohol** are **most likely to present** cardiovascular diseases.\n",
    "\n",
    "**3.** People who practice regular **physical activities** are **less likely to present** cardiovascular diseases.\n",
    "\n",
    "**4.** People who **smoke** are **most likely to present** cardiovascular diseases.\n",
    "\n",
    "**5.** People with a **regular and healthy diet** are **less likely to present** cardiovascular diseases."
   ]
  },
  {
   "cell_type": "markdown",
   "metadata": {
    "heading_collapsed": true,
    "hidden": true
   },
   "source": [
    "### 2.2.3. Examination Features"
   ]
  },
  {
   "cell_type": "markdown",
   "metadata": {
    "hidden": true
   },
   "source": [
    "**1.** People with **obesity** are **most likely to present** cardiovascular diseases.\n",
    "\n",
    "**2.** People who present **high cholesterol levels** are **most likely to present** cardiovascular diseases.\n",
    "\n",
    "**3.** **High glucose levels** people are **most likely to present** cardiovascular diseases.\n",
    "\n",
    "**4.** People with **hypertension** are **most likely to present** cardiovascular diseases."
   ]
  },
  {
   "cell_type": "markdown",
   "metadata": {
    "heading_collapsed": true,
    "hidden": true
   },
   "source": [
    "## 2.3. Feature Engineering"
   ]
  },
  {
   "cell_type": "markdown",
   "metadata": {
    "heading_collapsed": true,
    "hidden": true
   },
   "source": [
    "### 2.3.1. Modified Columns"
   ]
  },
  {
   "cell_type": "code",
   "execution_count": 19,
   "metadata": {
    "ExecuteTime": {
     "end_time": "2021-01-28T09:39:11.811488Z",
     "start_time": "2021-01-28T09:39:11.759535Z"
    },
    "hidden": true
   },
   "outputs": [],
   "source": [
    "df2['age'] = (df2['age']/365).astype('int64')\n",
    "\n",
    "df2['gender'] = df2['gender'].apply(lambda x: 'feminine' if x == 1 else 'masculine')\n",
    "\n",
    "df2['height'] = df2['height']/100\n",
    "\n",
    "df2['cholesterol'] = df2['cholesterol'].apply(lambda x: 'normal' if x == 1 else 'above_normal' if x == 2 else 'well_above_normal')\n",
    "\n",
    "df2['glucose'] = df2['glucose'].apply(lambda x: 'normal' if x == 1 else 'above_normal' if x == 2 else 'well_above_normal')"
   ]
  },
  {
   "cell_type": "markdown",
   "metadata": {
    "heading_collapsed": true,
    "hidden": true
   },
   "source": [
    "### 2.3.2. Created Columns"
   ]
  },
  {
   "cell_type": "code",
   "execution_count": 20,
   "metadata": {
    "ExecuteTime": {
     "end_time": "2021-01-28T09:39:12.823089Z",
     "start_time": "2021-01-28T09:39:12.798208Z"
    },
    "hidden": true
   },
   "outputs": [],
   "source": [
    "df2['bp_level'] = df2['systolic_bp'].apply(lambda x: 'normal' if x < 130 else 'pre_hypertension' if 130 <= x < 140 \n",
    "                                           else 'hypertension')\n",
    "\n",
    "df2['BMI'] = (df2['weight'] / np.square(df2['height'])).round(1)"
   ]
  },
  {
   "cell_type": "markdown",
   "metadata": {
    "heading_collapsed": true
   },
   "source": [
    "# 3. VARIABLE FILTERING"
   ]
  },
  {
   "cell_type": "code",
   "execution_count": 21,
   "metadata": {
    "ExecuteTime": {
     "end_time": "2021-01-28T09:39:22.544241Z",
     "start_time": "2021-01-28T09:39:22.534776Z"
    },
    "hidden": true
   },
   "outputs": [],
   "source": [
    "df3 = df2.copy()"
   ]
  },
  {
   "cell_type": "markdown",
   "metadata": {
    "heading_collapsed": true,
    "hidden": true
   },
   "source": [
    "## 3.1. Filtering Rows"
   ]
  },
  {
   "cell_type": "code",
   "execution_count": 22,
   "metadata": {
    "ExecuteTime": {
     "end_time": "2021-01-28T09:39:25.010338Z",
     "start_time": "2021-01-28T09:39:24.964253Z"
    },
    "hidden": true
   },
   "outputs": [],
   "source": [
    "df3 = df3[(df3['systolic_bp'] >= 80) & (df3['systolic_bp'] <= 240) \n",
    "          & (df3['diastolic_bp'] >= 50) & (df3['diastolic_bp'] <= 140)]\n",
    "\n",
    "df3 = df3[(df3['height'] > 1.20) & (df3['height'] <= 2.10) \n",
    "          & (df3['weight'] >= 40) & (df3['BMI'] <= 60)]"
   ]
  },
  {
   "cell_type": "markdown",
   "metadata": {
    "heading_collapsed": true,
    "hidden": true
   },
   "source": [
    "## 3.2. Columns Selection"
   ]
  },
  {
   "cell_type": "code",
   "execution_count": 23,
   "metadata": {
    "ExecuteTime": {
     "end_time": "2021-01-28T09:39:25.792052Z",
     "start_time": "2021-01-28T09:39:25.781587Z"
    },
    "hidden": true
   },
   "outputs": [],
   "source": [
    "df3 = df3.drop('id', axis = 1)"
   ]
  },
  {
   "cell_type": "markdown",
   "metadata": {
    "heading_collapsed": true
   },
   "source": [
    "# 4. EXPLORATORY DATA ANALYSIS"
   ]
  },
  {
   "cell_type": "code",
   "execution_count": 24,
   "metadata": {
    "ExecuteTime": {
     "end_time": "2021-01-28T09:39:32.134271Z",
     "start_time": "2021-01-28T09:39:32.128599Z"
    },
    "hidden": true
   },
   "outputs": [],
   "source": [
    "df4 = df3.copy()"
   ]
  },
  {
   "cell_type": "markdown",
   "metadata": {
    "heading_collapsed": true,
    "hidden": true
   },
   "source": [
    "## 4.1. Univariate Analysis"
   ]
  },
  {
   "cell_type": "markdown",
   "metadata": {
    "heading_collapsed": true,
    "hidden": true
   },
   "source": [
    "### 4.1.1. Response Variable"
   ]
  },
  {
   "cell_type": "code",
   "execution_count": 17,
   "metadata": {
    "ExecuteTime": {
     "end_time": "2021-01-26T08:31:50.157159Z",
     "start_time": "2021-01-26T08:31:49.071292Z"
    },
    "hidden": true,
    "hide_input": true
   },
   "outputs": [
    {
     "data": {
      "image/png": "[encoded data removed]",
      "text/plain": [
       "<Figure size 1296x576 with 1 Axes>"
      ]
     },
     "metadata": {},
     "output_type": "display_data"
    }
   ],
   "source": [
    "sns.countplot(x = df4['cardio_disease']);"
   ]
  },
  {
   "cell_type": "markdown",
   "metadata": {
    "heading_collapsed": true,
    "hidden": true
   },
   "source": [
    "### 4.1.2. Numerical Variables"
   ]
  },
  {
   "cell_type": "code",
   "execution_count": 60,
   "metadata": {
    "ExecuteTime": {
     "end_time": "2021-01-22T14:02:31.041699Z",
     "start_time": "2021-01-22T14:02:29.519250Z"
    },
    "hidden": true,
    "hide_input": false,
    "scrolled": false
   },
   "outputs": [
    {
     "data": {
      "image/png": "[encoded data removed]",
      "text/plain": [
       "<Figure size 1296x576 with 6 Axes>"
      ]
     },
     "metadata": {},
     "output_type": "display_data"
    }
   ],
   "source": [
    "num_attributes = df4.select_dtypes(include = ['int64', 'float64'])\n",
    "\n",
    "num_attributes.hist(bins = 60);"
   ]
  },
  {
   "cell_type": "markdown",
   "metadata": {
    "heading_collapsed": true,
    "hidden": true
   },
   "source": [
    "### 4.1.3. Categorical Variables"
   ]
  },
  {
   "cell_type": "code",
   "execution_count": 22,
   "metadata": {
    "ExecuteTime": {
     "end_time": "2021-01-26T08:45:37.513487Z",
     "start_time": "2021-01-26T08:45:31.958771Z"
    },
    "hidden": true,
    "hide_input": true,
    "scrolled": false
   },
   "outputs": [
    {
     "data": {
      "image/png": "[encoded data removed]",
      "text/plain": [
       "<Figure size 1296x576 with 7 Axes>"
      ]
     },
     "metadata": {},
     "output_type": "display_data"
    }
   ],
   "source": [
    "cat_attributes = df4.select_dtypes(exclude = ['int64', 'float64', 'datetime64[ns]'])\n",
    "\n",
    "# gender`, `cholesterol`, `glucose`, `smoking`, `alcohol_intake` and `physical_activity`, bp_level\n",
    "\n",
    "plt.subplot(3, 3, 1)\n",
    "sns.countplot(x = df4['gender']);\n",
    "\n",
    "plt.subplot(3, 3, 2)\n",
    "sns.countplot(x = df4['cholesterol'], order = ('normal', 'above_normal', 'well_above_normal'));\n",
    "\n",
    "plt.subplot(3, 3, 3)\n",
    "sns.countplot(x = df4['glucose'], order = ('normal', 'above_normal', 'well_above_normal'));\n",
    "\n",
    "plt.subplot(3, 3, 4)\n",
    "sns.countplot(x = df4['smoking']);\n",
    "\n",
    "plt.subplot(3, 3, 5)\n",
    "sns.countplot(x = df4['alcohol_intake']);\n",
    "\n",
    "plt.subplot(3, 3, 6)\n",
    "sns.countplot(x = df4['physical_activity']);\n",
    "\n",
    "plt.subplot(3, 3, 7)\n",
    "sns.countplot(x = df4['bp_level'], order = ('normal', 'pre_hypertension', 'hypertension'));\n",
    "\n",
    "plt.subplots_adjust(wspace = 0.3, hspace = 0.5);"
   ]
  },
  {
   "cell_type": "markdown",
   "metadata": {
    "heading_collapsed": true,
    "hidden": true
   },
   "source": [
    "## 4.2. Bivariate Analysis"
   ]
  },
  {
   "cell_type": "markdown",
   "metadata": {
    "heading_collapsed": true,
    "hidden": true
   },
   "source": [
    "### 4.2.1. Individual Analysis of the Hypothesis"
   ]
  },
  {
   "cell_type": "markdown",
   "metadata": {
    "hidden": true
   },
   "source": [
    "**H1.** **Men** are most likely to **present** cardiovascular diseases.\n",
    "\n",
    "**TRUE**, although difference in percentage is not expressive."
   ]
  },
  {
   "cell_type": "code",
   "execution_count": 103,
   "metadata": {
    "ExecuteTime": {
     "end_time": "2020-12-22T09:03:31.286186Z",
     "start_time": "2020-12-22T09:03:27.475678Z"
    },
    "hidden": true,
    "hide_input": true,
    "scrolled": false
   },
   "outputs": [
    {
     "data": {
      "image/png": "[encoded data removed]",
      "text/plain": [
       "<Figure size 1296x576 with 1 Axes>"
      ]
     },
     "metadata": {},
     "output_type": "display_data"
    }
   ],
   "source": [
    "sns.barplot(x = \"gender\", y = \"cardio_disease\", data = df4);"
   ]
  },
  {
   "cell_type": "markdown",
   "metadata": {
    "hidden": true,
    "hide_input": true
   },
   "source": [
    "**H2.** People with **obesity** are **most likely to present** cardiovascular diseases.\n",
    "\n",
    "**TRUE**, as well as people with underweight tend to have less cadiac diseases."
   ]
  },
  {
   "cell_type": "code",
   "execution_count": 333,
   "metadata": {
    "ExecuteTime": {
     "end_time": "2020-12-22T12:58:16.701099Z",
     "start_time": "2020-12-22T12:58:12.742801Z"
    },
    "hidden": true,
    "hide_input": true,
    "scrolled": false
   },
   "outputs": [
    {
     "data": {
      "image/png": "[encoded data removed]",
      "text/plain": [
       "<Figure size 1296x576 with 1 Axes>"
      ]
     },
     "metadata": {},
     "output_type": "display_data"
    }
   ],
   "source": [
    "sns.barplot(x = 'weight_status', y = 'cardio_disease', data = df4, order = ('underweight', 'normal', 'overweight', 'obese'));"
   ]
  },
  {
   "cell_type": "markdown",
   "metadata": {
    "hidden": true
   },
   "source": [
    "**H3.** **Older** people are **most likely to present** cardiovascular diseases.\n",
    "\n",
    "**TRUE**"
   ]
  },
  {
   "cell_type": "code",
   "execution_count": 306,
   "metadata": {
    "ExecuteTime": {
     "end_time": "2020-12-22T11:06:42.023891Z",
     "start_time": "2020-12-22T11:06:37.465566Z"
    },
    "hidden": true,
    "hide_input": true
   },
   "outputs": [
    {
     "data": {
      "image/png": "[encoded data removed]",
      "text/plain": [
       "<Figure size 1296x576 with 2 Axes>"
      ]
     },
     "metadata": {},
     "output_type": "display_data"
    }
   ],
   "source": [
    "aux = df4.groupby(['age', 'cardio_disease']).agg({'cardio_disease': 'count'})\n",
    "\n",
    "aux1 = aux.groupby(level = 0).apply(lambda x: (100 * x / float(x.sum())).round(2)).reset_index(0)\n",
    "aux1 = aux1[aux1.index == 1].rename(columns = {'cardio_disease': 'percentage_with_disease'})\n",
    "\n",
    "plt.subplot(1, 2, 1)\n",
    "sns.barplot(x = 'age', y = 'cardio_disease', data = df4);\n",
    "\n",
    "plt.subplot(1, 2, 2)\n",
    "sns.regplot(x = 'age', y = 'percentage_with_disease', data = aux1);"
   ]
  },
  {
   "cell_type": "markdown",
   "metadata": {
    "hidden": true
   },
   "source": [
    "**H4.** People who **drink alcohol** are **most likely to present** cardiovascular diseases.\n",
    "\n",
    "**FALSE**, although difference in percentage is not very expressive."
   ]
  },
  {
   "cell_type": "code",
   "execution_count": 313,
   "metadata": {
    "ExecuteTime": {
     "end_time": "2020-12-22T12:37:11.886778Z",
     "start_time": "2020-12-22T12:37:07.985929Z"
    },
    "hidden": true,
    "hide_input": true
   },
   "outputs": [
    {
     "data": {
      "image/png": "[encoded data removed]",
      "text/plain": [
       "<Figure size 1296x576 with 1 Axes>"
      ]
     },
     "metadata": {},
     "output_type": "display_data"
    }
   ],
   "source": [
    "sns.barplot(x = 'alcohol_intake', y = 'cardio_disease', data = df4);"
   ]
  },
  {
   "cell_type": "markdown",
   "metadata": {
    "hidden": true
   },
   "source": [
    "**H5.** People who practice regular **physical activities** are **less likely to present** cardiovascular diseases.\n",
    "\n",
    "**TRUE**"
   ]
  },
  {
   "cell_type": "code",
   "execution_count": 314,
   "metadata": {
    "ExecuteTime": {
     "end_time": "2020-12-22T12:41:00.744448Z",
     "start_time": "2020-12-22T12:40:56.899685Z"
    },
    "hidden": true,
    "hide_input": true
   },
   "outputs": [
    {
     "data": {
      "image/png": "[encoded data removed]",
      "text/plain": [
       "<Figure size 1296x576 with 1 Axes>"
      ]
     },
     "metadata": {},
     "output_type": "display_data"
    }
   ],
   "source": [
    "sns.barplot(x = 'physical_activity', y = 'cardio_disease', data = df4);"
   ]
  },
  {
   "cell_type": "markdown",
   "metadata": {
    "hidden": true
   },
   "source": [
    "**H6.** People who **smoke** are **most likely to present** cardiovascular diseases.\n",
    "\n",
    "**FALSE**, although difference in percentage is not very expressive."
   ]
  },
  {
   "cell_type": "code",
   "execution_count": 315,
   "metadata": {
    "ExecuteTime": {
     "end_time": "2020-12-22T12:43:57.430701Z",
     "start_time": "2020-12-22T12:43:53.557422Z"
    },
    "hidden": true,
    "hide_input": true
   },
   "outputs": [
    {
     "data": {
      "image/png": "[encoded data removed]",
      "text/plain": [
       "<Figure size 1296x576 with 1 Axes>"
      ]
     },
     "metadata": {},
     "output_type": "display_data"
    }
   ],
   "source": [
    "sns.barplot(x = 'smoking', y = 'cardio_disease', data = df4);"
   ]
  },
  {
   "cell_type": "markdown",
   "metadata": {
    "hidden": true
   },
   "source": [
    "**H7.** People who present **high cholesterol levels** are **most likely to present** cardiovascular diseases.\n",
    "\n",
    "**TRUE**, and those variables seems to have a strong correlation"
   ]
  },
  {
   "cell_type": "code",
   "execution_count": 317,
   "metadata": {
    "ExecuteTime": {
     "end_time": "2020-12-22T12:45:12.590964Z",
     "start_time": "2020-12-22T12:45:08.765596Z"
    },
    "hidden": true,
    "hide_input": true
   },
   "outputs": [
    {
     "data": {
      "image/png": "[encoded data removed]",
      "text/plain": [
       "<Figure size 1296x576 with 1 Axes>"
      ]
     },
     "metadata": {},
     "output_type": "display_data"
    }
   ],
   "source": [
    "sns.barplot(x = 'cholesterol', y = 'cardio_disease', data = df4, order = ('normal', 'above_normal', 'well_above_normal'));"
   ]
  },
  {
   "cell_type": "markdown",
   "metadata": {
    "hidden": true
   },
   "source": [
    "**H8.** **High glucose levels** people are **most likely to present** cardiovascular diseases.\n",
    "\n",
    "**TRUE**"
   ]
  },
  {
   "cell_type": "code",
   "execution_count": 318,
   "metadata": {
    "ExecuteTime": {
     "end_time": "2020-12-22T12:47:23.929525Z",
     "start_time": "2020-12-22T12:47:20.087217Z"
    },
    "hidden": true
   },
   "outputs": [
    {
     "data": {
      "image/png": "[encoded data removed]",
      "text/plain": [
       "<Figure size 1296x576 with 1 Axes>"
      ]
     },
     "metadata": {},
     "output_type": "display_data"
    }
   ],
   "source": [
    "sns.barplot(x = 'glucose', y = 'cardio_disease', data = df4);"
   ]
  },
  {
   "cell_type": "markdown",
   "metadata": {
    "hidden": true
   },
   "source": [
    "**H9.** People with **hypertension** are **most likely to present** cardiovascular diseases.\n",
    "\n",
    "**TRUE**, and those variables seems to have a strong correlation"
   ]
  },
  {
   "cell_type": "code",
   "execution_count": 320,
   "metadata": {
    "ExecuteTime": {
     "end_time": "2020-12-22T12:48:28.561556Z",
     "start_time": "2020-12-22T12:48:24.779599Z"
    },
    "hidden": true,
    "hide_input": true
   },
   "outputs": [
    {
     "data": {
      "image/png": "[encoded data removed]",
      "text/plain": [
       "<Figure size 1296x576 with 1 Axes>"
      ]
     },
     "metadata": {},
     "output_type": "display_data"
    }
   ],
   "source": [
    "sns.barplot(x = 'bp_level', y = 'cardio_disease', data = df4, order = ('normal', 'pre_hypertension', 'hypertension'));"
   ]
  },
  {
   "cell_type": "markdown",
   "metadata": {
    "heading_collapsed": true,
    "hidden": true
   },
   "source": [
    "### 4.2.2. General Hypothesis Overview"
   ]
  },
  {
   "cell_type": "code",
   "execution_count": 338,
   "metadata": {
    "ExecuteTime": {
     "end_time": "2020-12-22T13:08:26.924426Z",
     "start_time": "2020-12-22T13:08:26.913630Z"
    },
    "hidden": true,
    "hide_input": true
   },
   "outputs": [
    {
     "name": "stdout",
     "output_type": "stream",
     "text": [
      "Hypothesis                                                                                              Conclusion    Relevance\n",
      "------------------------------------------------------------------------------------------------------  ------------  -----------\n",
      "H1. Men are most likely to present cardiovascular diseases                                              True          Low\n",
      "H2. People with obesity are most likely to present cardiovascular diseases                              True          High\n",
      "H3. Older people are most likely to present cardiovascular diseases                                     True          High\n",
      "H4. People who drink alcohol are most likely to present cardiovascular diseases                         False         Low\n",
      "H5. People who practice regular physical activities are less likely to present cardiovascular diseases  True          Low\n",
      "H6. People who smoke are most likely to present cardiovascular diseases                                 False         Low\n",
      "H7. People who present high cholesterol levels are most likely to present cardiovascular diseases       True          High\n",
      "H8. High glucose levels people are most likely to present cardiovascular diseases                       True          Moderate\n",
      "H9. People with hypertension are most likely to present cardiovascular diseases                         True          High\n"
     ]
    }
   ],
   "source": [
    "tab = [['Hypothesis', 'Conclusion', 'Relevance'],\n",
    "       ['H1. Men are most likely to present cardiovascular diseases', 'True', 'Low'],\n",
    "       ['H2. People with obesity are most likely to present cardiovascular diseases', 'True', 'High'],\n",
    "       ['H3. Older people are most likely to present cardiovascular diseases', 'True', 'High'],\n",
    "       ['H4. People who drink alcohol are most likely to present cardiovascular diseases', 'False', 'Low'],\n",
    "       ['H5. People who practice regular physical activities are less likely to present cardiovascular diseases', 'True', 'Low'],\n",
    "       ['H6. People who smoke are most likely to present cardiovascular diseases', 'False', 'Low'],\n",
    "       ['H7. People who present high cholesterol levels are most likely to present cardiovascular diseases', 'True', 'High'],\n",
    "       ['H8. High glucose levels people are most likely to present cardiovascular diseases', 'True', 'Moderate'],\n",
    "       ['H9. People with hypertension are most likely to present cardiovascular diseases', 'True', 'High']\n",
    "      ]\n",
    "print(tabulate(tab, headers='firstrow'))"
   ]
  },
  {
   "cell_type": "markdown",
   "metadata": {
    "heading_collapsed": true,
    "hidden": true
   },
   "source": [
    "## 4.3. Multivariate Analysis"
   ]
  },
  {
   "cell_type": "markdown",
   "metadata": {
    "heading_collapsed": true,
    "hidden": true
   },
   "source": [
    "### 4.3.1. Numerical Attributes"
   ]
  },
  {
   "cell_type": "code",
   "execution_count": 36,
   "metadata": {
    "ExecuteTime": {
     "end_time": "2021-01-26T09:24:02.964333Z",
     "start_time": "2021-01-26T09:24:02.453538Z"
    },
    "hidden": true,
    "hide_input": false,
    "scrolled": false
   },
   "outputs": [
    {
     "data": {
      "image/png": "[encoded data removed]",
      "text/plain": [
       "<Figure size 1296x576 with 2 Axes>"
      ]
     },
     "metadata": {},
     "output_type": "display_data"
    }
   ],
   "source": [
    "num_attributes = df4.select_dtypes(include = ['int64', 'float64'])\n",
    "\n",
    "sns.heatmap(num_attributes.corr(method = 'pearson'), annot = True);"
   ]
  },
  {
   "cell_type": "markdown",
   "metadata": {
    "heading_collapsed": true,
    "hidden": true
   },
   "source": [
    "### 4.3.2. Categorical Attributes"
   ]
  },
  {
   "cell_type": "code",
   "execution_count": 37,
   "metadata": {
    "ExecuteTime": {
     "end_time": "2021-01-26T09:28:55.472765Z",
     "start_time": "2021-01-26T09:28:53.595874Z"
    },
    "hidden": true,
    "hide_input": true,
    "scrolled": false
   },
   "outputs": [
    {
     "data": {
      "image/png": "[encoded data removed]",
      "text/plain": [
       "<Figure size 1296x576 with 2 Axes>"
      ]
     },
     "metadata": {},
     "output_type": "display_data"
    }
   ],
   "source": [
    "a = df4.select_dtypes(include = 'object')\n",
    "\n",
    "label = preprocessing.LabelEncoder()\n",
    "data_encoded = pd.DataFrame() \n",
    "\n",
    "for i in a.columns :\n",
    "    data_encoded[i] = label.fit_transform(a[i])\n",
    "\n",
    "rows = []\n",
    "\n",
    "for var1 in data_encoded:\n",
    "    col = []\n",
    "    \n",
    "    for var2 in data_encoded :\n",
    "        cramer = cramer_v(data_encoded[var1], data_encoded[var2]) # Cramer's V test\n",
    "        col.append(round(cramer, 2)) # Keeping of the rounded value of the Cramer's V  \n",
    "    \n",
    "    rows.append(col)\n",
    "    \n",
    "cramer_results = np.array(rows)\n",
    "d = pd.DataFrame(cramer_results, columns = data_encoded.columns, index = data_encoded.columns)\n",
    "\n",
    "sns.heatmap(d, annot = True);"
   ]
  },
  {
   "cell_type": "markdown",
   "metadata": {
    "heading_collapsed": true
   },
   "source": [
    "# 5. DATA PREPARATION"
   ]
  },
  {
   "cell_type": "code",
   "execution_count": 33,
   "metadata": {
    "ExecuteTime": {
     "end_time": "2021-01-28T09:40:45.078975Z",
     "start_time": "2021-01-28T09:40:45.072151Z"
    },
    "hidden": true
   },
   "outputs": [],
   "source": [
    "df5 = df4.copy()"
   ]
  },
  {
   "cell_type": "markdown",
   "metadata": {
    "heading_collapsed": true,
    "hidden": true
   },
   "source": [
    "## 5.1. Normalization\n",
    "\n",
    "(None)"
   ]
  },
  {
   "cell_type": "markdown",
   "metadata": {
    "heading_collapsed": true,
    "hidden": true
   },
   "source": [
    "## 5.2. Rescaling"
   ]
  },
  {
   "cell_type": "code",
   "execution_count": 34,
   "metadata": {
    "ExecuteTime": {
     "end_time": "2021-01-28T09:40:48.967766Z",
     "start_time": "2021-01-28T09:40:48.940444Z"
    },
    "hidden": true
   },
   "outputs": [],
   "source": [
    "mms = MinMaxScaler()\n",
    "rs = RobustScaler()\n",
    "\n",
    "# age - range 35.00 (no)\n",
    "df5['age'] = mms.fit_transform(df5[['age']].values)\n",
    "\n",
    "# height - 0.82 (no)\n",
    "\n",
    "# weight - 160.00 (RobustScaler)\n",
    "df5['weight'] = mms.fit_transform(df5[['weight']].values)\n",
    "\n",
    "# systolic - 160.00 (MinMaxScaler)\n",
    "df5['systolic_bp'] = mms.fit_transform(df5[['systolic_bp']].values)\n",
    "\n",
    "# diastolic - 90.00 (MinMaxScaler)\n",
    "df5['diastolic_bp'] = mms.fit_transform(df5[['diastolic_bp']].values)\n",
    "\n",
    "# BMI - 46 (MinMaxScaler)\n",
    "df5['BMI'] = mms.fit_transform(df5[['BMI']].values)"
   ]
  },
  {
   "cell_type": "markdown",
   "metadata": {
    "heading_collapsed": true,
    "hidden": true
   },
   "source": [
    "## 5.3. Transformation"
   ]
  },
  {
   "cell_type": "markdown",
   "metadata": {
    "heading_collapsed": true,
    "hidden": true
   },
   "source": [
    "### 5.3.1. Response Variable\n",
    "\n",
    "(None)"
   ]
  },
  {
   "cell_type": "markdown",
   "metadata": {
    "heading_collapsed": true,
    "hidden": true
   },
   "source": [
    "### 5.3.2. Encoding"
   ]
  },
  {
   "cell_type": "code",
   "execution_count": 35,
   "metadata": {
    "ExecuteTime": {
     "end_time": "2021-01-28T09:40:54.429931Z",
     "start_time": "2021-01-28T09:40:54.388267Z"
    },
    "hidden": true
   },
   "outputs": [],
   "source": [
    "# gender - OrdinalEncoder\n",
    "assort_dict1 = {'feminine': 1,\n",
    "               'masculine': 2}\n",
    "df5['gender'] = df5['gender'].map(assort_dict1)\n",
    "\n",
    "# cholesterol - OrdinalEncoder\n",
    "assort_dict2 = {'normal': 1,\n",
    "               'above_normal': 2,\n",
    "               'well_above_normal': 3}\n",
    "df5['cholesterol'] = df5['cholesterol'].map(assort_dict2)\n",
    "\n",
    "# glucose - OrdinalEncoder\n",
    "df5['glucose'] = df5['glucose'].map(assort_dict2)\n",
    "\n",
    "# bp_level - OrdinalEncoder\n",
    "assort_dict3 = {'normal': 1,\n",
    "               'pre_hypertension': 2,\n",
    "               'hypertension': 3}\n",
    "df5['bp_level'] = df5['bp_level'].map(assort_dict3)"
   ]
  },
  {
   "cell_type": "markdown",
   "metadata": {
    "heading_collapsed": true,
    "hidden": true
   },
   "source": [
    "### 5.3.3. Nature Transformation\n",
    "\n",
    "(None)"
   ]
  },
  {
   "cell_type": "markdown",
   "metadata": {
    "heading_collapsed": true
   },
   "source": [
    "# 6. FEATURE SELECTION"
   ]
  },
  {
   "cell_type": "code",
   "execution_count": 36,
   "metadata": {
    "ExecuteTime": {
     "end_time": "2021-01-28T09:40:58.360423Z",
     "start_time": "2021-01-28T09:40:58.355199Z"
    },
    "hidden": true
   },
   "outputs": [],
   "source": [
    "df6 = df5.copy()"
   ]
  },
  {
   "cell_type": "code",
   "execution_count": 37,
   "metadata": {
    "ExecuteTime": {
     "end_time": "2021-01-28T09:41:01.299003Z",
     "start_time": "2021-01-28T09:41:01.286685Z"
    },
    "hidden": true
   },
   "outputs": [],
   "source": [
    "# removing correlated variables\n",
    "\n",
    "df6 = df6.drop(columns = ['systolic_bp', 'diastolic_bp'])"
   ]
  },
  {
   "cell_type": "markdown",
   "metadata": {
    "heading_collapsed": true,
    "hidden": true
   },
   "source": [
    "## 6.1. Split DataFrame into Training and Test"
   ]
  },
  {
   "cell_type": "code",
   "execution_count": 38,
   "metadata": {
    "ExecuteTime": {
     "end_time": "2021-01-28T09:41:04.505317Z",
     "start_time": "2021-01-28T09:41:04.485130Z"
    },
    "hidden": true
   },
   "outputs": [],
   "source": [
    "train, test = train_test_split(df6, test_size = 0.2, random_state = 42, shuffle = True)\n",
    "\n",
    "X_train = train\n",
    "y_train = X_train['cardio_disease']\n",
    "\n",
    "X_test = test\n",
    "y_test = X_test['cardio_disease']"
   ]
  },
  {
   "cell_type": "markdown",
   "metadata": {
    "heading_collapsed": true,
    "hidden": true
   },
   "source": [
    "## 6.2. Boruta as Feature Selector"
   ]
  },
  {
   "cell_type": "code",
   "execution_count": 65,
   "metadata": {
    "ExecuteTime": {
     "end_time": "2021-01-26T12:57:03.708997Z",
     "start_time": "2021-01-26T12:55:46.739571Z"
    },
    "hidden": true
   },
   "outputs": [
    {
     "name": "stdout",
     "output_type": "stream",
     "text": [
      "Iteration: \t1 / 100\n",
      "Confirmed: \t0\n",
      "Tentative: \t11\n",
      "Rejected: \t0\n",
      "Iteration: \t2 / 100\n",
      "Confirmed: \t0\n",
      "Tentative: \t11\n",
      "Rejected: \t0\n",
      "Iteration: \t3 / 100\n",
      "Confirmed: \t0\n",
      "Tentative: \t11\n",
      "Rejected: \t0\n",
      "Iteration: \t4 / 100\n",
      "Confirmed: \t0\n",
      "Tentative: \t11\n",
      "Rejected: \t0\n",
      "Iteration: \t5 / 100\n",
      "Confirmed: \t0\n",
      "Tentative: \t11\n",
      "Rejected: \t0\n",
      "Iteration: \t6 / 100\n",
      "Confirmed: \t0\n",
      "Tentative: \t11\n",
      "Rejected: \t0\n",
      "Iteration: \t7 / 100\n",
      "Confirmed: \t0\n",
      "Tentative: \t11\n",
      "Rejected: \t0\n",
      "Iteration: \t8 / 100\n",
      "Confirmed: \t1\n",
      "Tentative: \t0\n",
      "Rejected: \t10\n",
      "\n",
      "\n",
      "BorutaPy finished running.\n",
      "\n",
      "Iteration: \t9 / 100\n",
      "Confirmed: \t1\n",
      "Tentative: \t0\n",
      "Rejected: \t10\n"
     ]
    }
   ],
   "source": [
    "# conversion of df/series to numpy and remotion of variables that do not compose training ('cardio_disease')\n",
    "x_train_n = X_train.drop(['cardio_disease'], axis=1).values\n",
    "y_train_n = y_train.values.ravel()\n",
    "\n",
    "# define RandomForestRegressor\n",
    "rf = RandomForestRegressor(n_jobs = -1)\n",
    "\n",
    "# define Boruta\n",
    "boruta = BorutaPy(rf, n_estimators = 'auto', verbose = 2, random_state = 42).fit(x_train_n, y_train_n)"
   ]
  },
  {
   "cell_type": "markdown",
   "metadata": {
    "hidden": true
   },
   "source": [
    "### 6.2.1. Best Features"
   ]
  },
  {
   "cell_type": "code",
   "execution_count": 66,
   "metadata": {
    "ExecuteTime": {
     "end_time": "2021-01-26T13:13:31.461618Z",
     "start_time": "2021-01-26T13:13:31.448918Z"
    },
    "hidden": true
   },
   "outputs": [],
   "source": [
    "cols_selected = boruta.support_.tolist()\n",
    "\n",
    "# best features\n",
    "X_train_fs = X_train.drop(['cardio_disease'], axis = 1)\n",
    "cols_selected_boruta = X_train_fs.iloc[:, cols_selected].columns.tolist()\n",
    "\n",
    "# unconsidered columns\n",
    "cols_not_selected_boruta = list(np.setdiff1d(X_train_fs.columns, cols_selected_boruta))"
   ]
  },
  {
   "cell_type": "code",
   "execution_count": 67,
   "metadata": {
    "ExecuteTime": {
     "end_time": "2021-01-26T13:13:33.353320Z",
     "start_time": "2021-01-26T13:13:33.348214Z"
    },
    "hidden": true,
    "scrolled": true
   },
   "outputs": [
    {
     "data": {
      "text/plain": [
       "['bp_level']"
      ]
     },
     "execution_count": 67,
     "metadata": {},
     "output_type": "execute_result"
    }
   ],
   "source": [
    "cols_selected_boruta"
   ]
  },
  {
   "cell_type": "markdown",
   "metadata": {
    "heading_collapsed": true,
    "hidden": true
   },
   "source": [
    "## 6.3. Saving Best Features (Boruta + Selected from EDA)"
   ]
  },
  {
   "cell_type": "code",
   "execution_count": 39,
   "metadata": {
    "ExecuteTime": {
     "end_time": "2021-01-28T09:57:47.579579Z",
     "start_time": "2021-01-28T09:57:47.575144Z"
    },
    "hidden": true
   },
   "outputs": [],
   "source": [
    "cols_selected_boruta = ['bp_level', # the only one selected by Boruta\n",
    "                        'age',\n",
    "                        'cholesterol',\n",
    "                        'BMI']\n",
    "\n",
    "#columns to add\n",
    "feat_to_add = ['cardio_disease']\n",
    "\n",
    "#final features\n",
    "cols_selected_boruta_full = cols_selected_boruta.copy()\n",
    "cols_selected_boruta_full.extend( feat_to_add )"
   ]
  },
  {
   "cell_type": "markdown",
   "metadata": {
    "heading_collapsed": true
   },
   "source": [
    "# 7. MACHINE LEARNING MODELS"
   ]
  },
  {
   "cell_type": "code",
   "execution_count": 41,
   "metadata": {
    "ExecuteTime": {
     "end_time": "2021-01-28T09:57:51.547171Z",
     "start_time": "2021-01-28T09:57:51.541726Z"
    },
    "hidden": true
   },
   "outputs": [],
   "source": [
    "x_train = X_train[cols_selected_boruta]\n",
    "x_test = X_test[cols_selected_boruta]"
   ]
  },
  {
   "cell_type": "code",
   "execution_count": 42,
   "metadata": {
    "ExecuteTime": {
     "end_time": "2021-01-28T09:57:51.889883Z",
     "start_time": "2021-01-28T09:57:51.883043Z"
    },
    "hidden": true
   },
   "outputs": [],
   "source": [
    "y_train = y_train.astype('int64')\n",
    "y_test = y_test.astype('int64')"
   ]
  },
  {
   "cell_type": "code",
   "execution_count": 80,
   "metadata": {
    "ExecuteTime": {
     "end_time": "2021-01-29T08:49:55.057478Z",
     "start_time": "2021-01-29T08:49:55.054117Z"
    },
    "hidden": true
   },
   "outputs": [],
   "source": [
    "# define CV strategy\n",
    "cv = StratifiedKFold(n_splits = 10, random_state = None)"
   ]
  },
  {
   "cell_type": "markdown",
   "metadata": {
    "heading_collapsed": true,
    "hidden": true
   },
   "source": [
    "## 7.1. Logistic Regression"
   ]
  },
  {
   "cell_type": "code",
   "execution_count": 98,
   "metadata": {
    "ExecuteTime": {
     "end_time": "2021-01-29T10:15:14.594354Z",
     "start_time": "2021-01-29T10:15:14.335492Z"
    },
    "hidden": true
   },
   "outputs": [
    {
     "data": {
      "text/html": [
       "<div>\n",
       "<style scoped>\n",
       "    .dataframe tbody tr th:only-of-type {\n",
       "        vertical-align: middle;\n",
       "    }\n",
       "\n",
       "    .dataframe tbody tr th {\n",
       "        vertical-align: top;\n",
       "    }\n",
       "\n",
       "    .dataframe thead th {\n",
       "        text-align: right;\n",
       "    }\n",
       "</style>\n",
       "<table border=\"1\" class=\"dataframe\">\n",
       "  <thead>\n",
       "    <tr style=\"text-align: right;\">\n",
       "      <th></th>\n",
       "      <th>Model Name</th>\n",
       "      <th>Accuracy</th>\n",
       "      <th>Precision</th>\n",
       "      <th>Recall</th>\n",
       "      <th>F1 Score</th>\n",
       "      <th>AUC ROC</th>\n",
       "    </tr>\n",
       "  </thead>\n",
       "  <tbody>\n",
       "    <tr>\n",
       "      <th>0</th>\n",
       "      <td>Logistic Regression</td>\n",
       "      <td>0.724714</td>\n",
       "      <td>0.74868</td>\n",
       "      <td>0.656661</td>\n",
       "      <td>0.699658</td>\n",
       "      <td>0.723157</td>\n",
       "    </tr>\n",
       "  </tbody>\n",
       "</table>\n",
       "</div>"
      ],
      "text/plain": [
       "            Model Name  Accuracy  Precision    Recall  F1 Score   AUC ROC\n",
       "0  Logistic Regression  0.724714    0.74868  0.656661  0.699658  0.723157"
      ]
     },
     "execution_count": 98,
     "metadata": {},
     "output_type": "execute_result"
    }
   ],
   "source": [
    "# model\n",
    "lr = LogisticRegression()\n",
    "lr.fit(x_train, y_train)\n",
    "\n",
    "# prediction\n",
    "y_hat = lr.predict(x_test)\n",
    "\n",
    "# # performance\n",
    "lr_result = ml_performance('Logistic Regression', y_test, y_hat)\n",
    "lr_result"
   ]
  },
  {
   "cell_type": "markdown",
   "metadata": {
    "heading_collapsed": true,
    "hidden": true
   },
   "source": [
    "### 7.1.1.  Logistic Regression - Cross Validation"
   ]
  },
  {
   "cell_type": "code",
   "execution_count": 127,
   "metadata": {
    "ExecuteTime": {
     "end_time": "2021-01-29T12:59:46.813274Z",
     "start_time": "2021-01-29T12:59:42.351243Z"
    },
    "hidden": true,
    "scrolled": true
   },
   "outputs": [
    {
     "data": {
      "text/html": [
       "<div>\n",
       "<style scoped>\n",
       "    .dataframe tbody tr th:only-of-type {\n",
       "        vertical-align: middle;\n",
       "    }\n",
       "\n",
       "    .dataframe tbody tr th {\n",
       "        vertical-align: top;\n",
       "    }\n",
       "\n",
       "    .dataframe thead th {\n",
       "        text-align: right;\n",
       "    }\n",
       "</style>\n",
       "<table border=\"1\" class=\"dataframe\">\n",
       "  <thead>\n",
       "    <tr style=\"text-align: right;\">\n",
       "      <th></th>\n",
       "      <th>Model Name</th>\n",
       "      <th>Accuracy</th>\n",
       "      <th>Precision</th>\n",
       "      <th>Recall</th>\n",
       "      <th>F1 Score</th>\n",
       "      <th>AUC ROC</th>\n",
       "    </tr>\n",
       "  </thead>\n",
       "  <tbody>\n",
       "    <tr>\n",
       "      <th>0</th>\n",
       "      <td>Logistic Regression</td>\n",
       "      <td>0.723818</td>\n",
       "      <td>0.762238</td>\n",
       "      <td>0.645041</td>\n",
       "      <td>0.698711</td>\n",
       "      <td>0.789636</td>\n",
       "    </tr>\n",
       "  </tbody>\n",
       "</table>\n",
       "</div>"
      ],
      "text/plain": [
       "            Model Name  Accuracy  Precision    Recall  F1 Score   AUC ROC\n",
       "0  Logistic Regression  0.723818   0.762238  0.645041  0.698711  0.789636"
      ]
     },
     "execution_count": 127,
     "metadata": {},
     "output_type": "execute_result"
    }
   ],
   "source": [
    "lr_result_cv = cross_validation('Logistic Regression', lr, x_train, y_train, cv)\n",
    "lr_result_cv"
   ]
  },
  {
   "cell_type": "markdown",
   "metadata": {
    "heading_collapsed": true,
    "hidden": true
   },
   "source": [
    "## 7.2. Random Forest Classification"
   ]
  },
  {
   "cell_type": "code",
   "execution_count": 100,
   "metadata": {
    "ExecuteTime": {
     "end_time": "2021-01-29T10:18:51.305212Z",
     "start_time": "2021-01-29T10:18:49.157811Z"
    },
    "hidden": true
   },
   "outputs": [
    {
     "data": {
      "text/html": [
       "<div>\n",
       "<style scoped>\n",
       "    .dataframe tbody tr th:only-of-type {\n",
       "        vertical-align: middle;\n",
       "    }\n",
       "\n",
       "    .dataframe tbody tr th {\n",
       "        vertical-align: top;\n",
       "    }\n",
       "\n",
       "    .dataframe thead th {\n",
       "        text-align: right;\n",
       "    }\n",
       "</style>\n",
       "<table border=\"1\" class=\"dataframe\">\n",
       "  <thead>\n",
       "    <tr style=\"text-align: right;\">\n",
       "      <th></th>\n",
       "      <th>Model Name</th>\n",
       "      <th>Accuracy</th>\n",
       "      <th>Precision</th>\n",
       "      <th>Recall</th>\n",
       "      <th>F1 Score</th>\n",
       "      <th>AUC ROC</th>\n",
       "    </tr>\n",
       "  </thead>\n",
       "  <tbody>\n",
       "    <tr>\n",
       "      <th>0</th>\n",
       "      <td>Random Forest Classifier</td>\n",
       "      <td>0.688252</td>\n",
       "      <td>0.695589</td>\n",
       "      <td>0.642921</td>\n",
       "      <td>0.668219</td>\n",
       "      <td>0.687215</td>\n",
       "    </tr>\n",
       "  </tbody>\n",
       "</table>\n",
       "</div>"
      ],
      "text/plain": [
       "                 Model Name  Accuracy  Precision    Recall  F1 Score   AUC ROC\n",
       "0  Random Forest Classifier  0.688252   0.695589  0.642921  0.668219  0.687215"
      ]
     },
     "execution_count": 100,
     "metadata": {},
     "output_type": "execute_result"
    }
   ],
   "source": [
    "# model\n",
    "rf = RandomForestClassifier(n_estimators = 100, n_jobs = -1, random_state = 42).fit(x_train, y_train)\n",
    "\n",
    "# prediction\n",
    "y_hat = rf.predict(x_test)\n",
    "\n",
    "# # performance\n",
    "rf_result = ml_performance('Random Forest Classifier', y_test, y_hat)\n",
    "rf_result"
   ]
  },
  {
   "cell_type": "markdown",
   "metadata": {
    "heading_collapsed": true,
    "hidden": true
   },
   "source": [
    "### 7.1.2. Random Forest - Cross Validation"
   ]
  },
  {
   "cell_type": "code",
   "execution_count": 101,
   "metadata": {
    "ExecuteTime": {
     "end_time": "2021-01-29T10:20:38.919471Z",
     "start_time": "2021-01-29T10:18:56.676168Z"
    },
    "hidden": true,
    "scrolled": true
   },
   "outputs": [
    {
     "data": {
      "text/html": [
       "<div>\n",
       "<style scoped>\n",
       "    .dataframe tbody tr th:only-of-type {\n",
       "        vertical-align: middle;\n",
       "    }\n",
       "\n",
       "    .dataframe tbody tr th {\n",
       "        vertical-align: top;\n",
       "    }\n",
       "\n",
       "    .dataframe thead th {\n",
       "        text-align: right;\n",
       "    }\n",
       "</style>\n",
       "<table border=\"1\" class=\"dataframe\">\n",
       "  <thead>\n",
       "    <tr style=\"text-align: right;\">\n",
       "      <th></th>\n",
       "      <th>Model Name</th>\n",
       "      <th>Accuracy</th>\n",
       "      <th>Precision</th>\n",
       "      <th>Recall</th>\n",
       "      <th>F1 Score</th>\n",
       "      <th>AUC ROC</th>\n",
       "    </tr>\n",
       "  </thead>\n",
       "  <tbody>\n",
       "    <tr>\n",
       "      <th>0</th>\n",
       "      <td>Random Forest Classifier</td>\n",
       "      <td>0.682723</td>\n",
       "      <td>0.699961</td>\n",
       "      <td>0.632118</td>\n",
       "      <td>0.664298</td>\n",
       "      <td>0.729638</td>\n",
       "    </tr>\n",
       "  </tbody>\n",
       "</table>\n",
       "</div>"
      ],
      "text/plain": [
       "                 Model Name  Accuracy  Precision    Recall  F1 Score   AUC ROC\n",
       "0  Random Forest Classifier  0.682723   0.699961  0.632118  0.664298  0.729638"
      ]
     },
     "execution_count": 101,
     "metadata": {},
     "output_type": "execute_result"
    }
   ],
   "source": [
    "rf_result_cv = cross_validation('Random Forest Classifier', rf, x_train, y_train, cv)\n",
    "rf_result_cv"
   ]
  },
  {
   "cell_type": "markdown",
   "metadata": {
    "heading_collapsed": true,
    "hidden": true
   },
   "source": [
    "## 7.3. Support Vector Classification"
   ]
  },
  {
   "cell_type": "code",
   "execution_count": 102,
   "metadata": {
    "ExecuteTime": {
     "end_time": "2021-01-29T10:22:46.625088Z",
     "start_time": "2021-01-29T10:21:11.934126Z"
    },
    "hidden": true
   },
   "outputs": [
    {
     "data": {
      "text/html": [
       "<div>\n",
       "<style scoped>\n",
       "    .dataframe tbody tr th:only-of-type {\n",
       "        vertical-align: middle;\n",
       "    }\n",
       "\n",
       "    .dataframe tbody tr th {\n",
       "        vertical-align: top;\n",
       "    }\n",
       "\n",
       "    .dataframe thead th {\n",
       "        text-align: right;\n",
       "    }\n",
       "</style>\n",
       "<table border=\"1\" class=\"dataframe\">\n",
       "  <thead>\n",
       "    <tr style=\"text-align: right;\">\n",
       "      <th></th>\n",
       "      <th>Model Name</th>\n",
       "      <th>Accuracy</th>\n",
       "      <th>Precision</th>\n",
       "      <th>Recall</th>\n",
       "      <th>F1 Score</th>\n",
       "      <th>AUC ROC</th>\n",
       "    </tr>\n",
       "  </thead>\n",
       "  <tbody>\n",
       "    <tr>\n",
       "      <th>0</th>\n",
       "      <td>SVC</td>\n",
       "      <td>0.724933</td>\n",
       "      <td>0.737569</td>\n",
       "      <td>0.677867</td>\n",
       "      <td>0.706459</td>\n",
       "      <td>0.723856</td>\n",
       "    </tr>\n",
       "  </tbody>\n",
       "</table>\n",
       "</div>"
      ],
      "text/plain": [
       "  Model Name  Accuracy  Precision    Recall  F1 Score   AUC ROC\n",
       "0        SVC  0.724933   0.737569  0.677867  0.706459  0.723856"
      ]
     },
     "execution_count": 102,
     "metadata": {},
     "output_type": "execute_result"
    }
   ],
   "source": [
    "# model\n",
    "svc = SVC(random_state = 6).fit(x_train, y_train)\n",
    "\n",
    "# prediction\n",
    "y_hat = svc.predict(x_test)\n",
    "\n",
    "# # performance\n",
    "svc_result = ml_performance('SVC', y_test, y_hat)\n",
    "svc_result"
   ]
  },
  {
   "cell_type": "markdown",
   "metadata": {
    "heading_collapsed": true,
    "hidden": true
   },
   "source": [
    "### 7.1.3. Support Vector Classification - Cross Validation"
   ]
  },
  {
   "cell_type": "code",
   "execution_count": 103,
   "metadata": {
    "ExecuteTime": {
     "end_time": "2021-01-29T10:59:12.929686Z",
     "start_time": "2021-01-29T10:22:56.292605Z"
    },
    "hidden": true,
    "scrolled": true
   },
   "outputs": [
    {
     "data": {
      "text/html": [
       "<div>\n",
       "<style scoped>\n",
       "    .dataframe tbody tr th:only-of-type {\n",
       "        vertical-align: middle;\n",
       "    }\n",
       "\n",
       "    .dataframe tbody tr th {\n",
       "        vertical-align: top;\n",
       "    }\n",
       "\n",
       "    .dataframe thead th {\n",
       "        text-align: right;\n",
       "    }\n",
       "</style>\n",
       "<table border=\"1\" class=\"dataframe\">\n",
       "  <thead>\n",
       "    <tr style=\"text-align: right;\">\n",
       "      <th></th>\n",
       "      <th>Model Name</th>\n",
       "      <th>Accuracy</th>\n",
       "      <th>Precision</th>\n",
       "      <th>Recall</th>\n",
       "      <th>F1 Score</th>\n",
       "      <th>AUC ROC</th>\n",
       "    </tr>\n",
       "  </thead>\n",
       "  <tbody>\n",
       "    <tr>\n",
       "      <th>0</th>\n",
       "      <td>SVC Classifier</td>\n",
       "      <td>0.724602</td>\n",
       "      <td>0.7508</td>\n",
       "      <td>0.666703</td>\n",
       "      <td>0.706213</td>\n",
       "      <td>0.769818</td>\n",
       "    </tr>\n",
       "  </tbody>\n",
       "</table>\n",
       "</div>"
      ],
      "text/plain": [
       "       Model Name  Accuracy  Precision    Recall  F1 Score   AUC ROC\n",
       "0  SVC Classifier  0.724602     0.7508  0.666703  0.706213  0.769818"
      ]
     },
     "execution_count": 103,
     "metadata": {},
     "output_type": "execute_result"
    }
   ],
   "source": [
    "svc_result_cv = cross_validation('SVC Classifier', svc, x_train, y_train, cv)\n",
    "svc_result_cv"
   ]
  },
  {
   "cell_type": "markdown",
   "metadata": {
    "hidden": true
   },
   "source": [
    "## 7.4. CatBoostClassifier (TO ADD)"
   ]
  },
  {
   "cell_type": "markdown",
   "metadata": {
    "hidden": true
   },
   "source": [
    "## 7.5. XGBoostClassifier  (TO ADD)"
   ]
  },
  {
   "cell_type": "markdown",
   "metadata": {
    "heading_collapsed": true,
    "hidden": true
   },
   "source": [
    "## 7.6. Compare Model's Performance"
   ]
  },
  {
   "cell_type": "markdown",
   "metadata": {
    "heading_collapsed": true,
    "hidden": true
   },
   "source": [
    "### 7.6.1. Single Performance"
   ]
  },
  {
   "cell_type": "code",
   "execution_count": 109,
   "metadata": {
    "ExecuteTime": {
     "end_time": "2021-01-29T11:44:11.482246Z",
     "start_time": "2021-01-29T11:44:11.470039Z"
    },
    "hidden": true,
    "hide_input": false,
    "scrolled": true
   },
   "outputs": [
    {
     "data": {
      "text/html": [
       "<div>\n",
       "<style scoped>\n",
       "    .dataframe tbody tr th:only-of-type {\n",
       "        vertical-align: middle;\n",
       "    }\n",
       "\n",
       "    .dataframe tbody tr th {\n",
       "        vertical-align: top;\n",
       "    }\n",
       "\n",
       "    .dataframe thead th {\n",
       "        text-align: right;\n",
       "    }\n",
       "</style>\n",
       "<table border=\"1\" class=\"dataframe\">\n",
       "  <thead>\n",
       "    <tr style=\"text-align: right;\">\n",
       "      <th></th>\n",
       "      <th>Accuracy</th>\n",
       "      <th>Precision</th>\n",
       "      <th>Recall</th>\n",
       "      <th>F1 Score</th>\n",
       "      <th>AUC ROC</th>\n",
       "    </tr>\n",
       "    <tr>\n",
       "      <th>Model Name</th>\n",
       "      <th></th>\n",
       "      <th></th>\n",
       "      <th></th>\n",
       "      <th></th>\n",
       "      <th></th>\n",
       "    </tr>\n",
       "  </thead>\n",
       "  <tbody>\n",
       "    <tr>\n",
       "      <th>Logistic Regression</th>\n",
       "      <td>0.724714</td>\n",
       "      <td>0.748680</td>\n",
       "      <td>0.656661</td>\n",
       "      <td>0.699658</td>\n",
       "      <td>0.723157</td>\n",
       "    </tr>\n",
       "    <tr>\n",
       "      <th>SVC</th>\n",
       "      <td>0.724933</td>\n",
       "      <td>0.737569</td>\n",
       "      <td>0.677867</td>\n",
       "      <td>0.706459</td>\n",
       "      <td>0.723856</td>\n",
       "    </tr>\n",
       "    <tr>\n",
       "      <th>Random Forest Classifier</th>\n",
       "      <td>0.688252</td>\n",
       "      <td>0.695589</td>\n",
       "      <td>0.642921</td>\n",
       "      <td>0.668219</td>\n",
       "      <td>0.687215</td>\n",
       "    </tr>\n",
       "  </tbody>\n",
       "</table>\n",
       "</div>"
      ],
      "text/plain": [
       "                          Accuracy  Precision    Recall  F1 Score   AUC ROC\n",
       "Model Name                                                                 \n",
       "Logistic Regression       0.724714   0.748680  0.656661  0.699658  0.723157\n",
       "SVC                       0.724933   0.737569  0.677867  0.706459  0.723856\n",
       "Random Forest Classifier  0.688252   0.695589  0.642921  0.668219  0.687215"
      ]
     },
     "execution_count": 109,
     "metadata": {},
     "output_type": "execute_result"
    }
   ],
   "source": [
    "modelling_result = pd.concat([lr_result, rf_result, svc_result]).set_index('Model Name')\n",
    "modelling_result.sort_values('Precision', ascending = False)"
   ]
  },
  {
   "cell_type": "markdown",
   "metadata": {
    "heading_collapsed": true,
    "hidden": true
   },
   "source": [
    "### 7.6.2. Real Performance (Cross-Validation)"
   ]
  },
  {
   "cell_type": "code",
   "execution_count": 147,
   "metadata": {
    "ExecuteTime": {
     "end_time": "2021-01-29T13:30:03.235375Z",
     "start_time": "2021-01-29T13:30:03.213851Z"
    },
    "hidden": true,
    "hide_input": false,
    "scrolled": true
   },
   "outputs": [
    {
     "data": {
      "text/html": [
       "<div>\n",
       "<style scoped>\n",
       "    .dataframe tbody tr th:only-of-type {\n",
       "        vertical-align: middle;\n",
       "    }\n",
       "\n",
       "    .dataframe tbody tr th {\n",
       "        vertical-align: top;\n",
       "    }\n",
       "\n",
       "    .dataframe thead th {\n",
       "        text-align: right;\n",
       "    }\n",
       "</style>\n",
       "<table border=\"1\" class=\"dataframe\">\n",
       "  <thead>\n",
       "    <tr style=\"text-align: right;\">\n",
       "      <th></th>\n",
       "      <th>Accuracy</th>\n",
       "      <th>Precision</th>\n",
       "      <th>Recall</th>\n",
       "      <th>F1 Score</th>\n",
       "      <th>AUC ROC</th>\n",
       "    </tr>\n",
       "    <tr>\n",
       "      <th>Model Name</th>\n",
       "      <th></th>\n",
       "      <th></th>\n",
       "      <th></th>\n",
       "      <th></th>\n",
       "      <th></th>\n",
       "    </tr>\n",
       "  </thead>\n",
       "  <tbody>\n",
       "    <tr>\n",
       "      <th>Logistic Regression</th>\n",
       "      <td>0.723818</td>\n",
       "      <td>0.762238</td>\n",
       "      <td>0.645041</td>\n",
       "      <td>0.698711</td>\n",
       "      <td>0.789636</td>\n",
       "    </tr>\n",
       "    <tr>\n",
       "      <th>SVC Classifier</th>\n",
       "      <td>0.724602</td>\n",
       "      <td>0.750800</td>\n",
       "      <td>0.666703</td>\n",
       "      <td>0.706213</td>\n",
       "      <td>0.769818</td>\n",
       "    </tr>\n",
       "    <tr>\n",
       "      <th>Random Forest Classifier</th>\n",
       "      <td>0.682723</td>\n",
       "      <td>0.699961</td>\n",
       "      <td>0.632118</td>\n",
       "      <td>0.664298</td>\n",
       "      <td>0.729638</td>\n",
       "    </tr>\n",
       "  </tbody>\n",
       "</table>\n",
       "</div>"
      ],
      "text/plain": [
       "                          Accuracy  Precision    Recall  F1 Score   AUC ROC\n",
       "Model Name                                                                 \n",
       "Logistic Regression       0.723818   0.762238  0.645041  0.698711  0.789636\n",
       "SVC Classifier            0.724602   0.750800  0.666703  0.706213  0.769818\n",
       "Random Forest Classifier  0.682723   0.699961  0.632118  0.664298  0.729638"
      ]
     },
     "execution_count": 147,
     "metadata": {},
     "output_type": "execute_result"
    }
   ],
   "source": [
    "modelling_result_cv = pd.concat([lr_result_cv, rf_result_cv, svc_result_cv]).set_index('Model Name')\n",
    "modelling_result_cv.sort_values('Precision', ascending = False)"
   ]
  },
  {
   "cell_type": "markdown",
   "metadata": {
    "heading_collapsed": true
   },
   "source": [
    "# 8. HYPERPARAMETER FINE TUNING"
   ]
  },
  {
   "cell_type": "markdown",
   "metadata": {
    "heading_collapsed": true,
    "hidden": true
   },
   "source": [
    "## 8.1. Grid Search - Logistic Regression"
   ]
  },
  {
   "cell_type": "code",
   "execution_count": 142,
   "metadata": {
    "ExecuteTime": {
     "end_time": "2021-01-29T13:23:05.037267Z",
     "start_time": "2021-01-29T13:19:57.604149Z"
    },
    "hidden": true,
    "scrolled": true
   },
   "outputs": [
    {
     "name": "stdout",
     "output_type": "stream",
     "text": [
      "Fitting 5 folds for each of 560 candidates, totalling 2800 fits\n"
     ]
    },
    {
     "name": "stderr",
     "output_type": "stream",
     "text": [
      "[Parallel(n_jobs=-1)]: Using backend LokyBackend with 4 concurrent workers.\n",
      "[Parallel(n_jobs=-1)]: Done 128 tasks      | elapsed:    5.3s\n",
      "[Parallel(n_jobs=-1)]: Done 728 tasks      | elapsed:   33.4s\n",
      "[Parallel(n_jobs=-1)]: Done 1108 tasks      | elapsed:  1.0min\n",
      "[Parallel(n_jobs=-1)]: Done 1808 tasks      | elapsed:  1.9min\n",
      "[Parallel(n_jobs=-1)]: Done 2708 tasks      | elapsed:  3.0min\n",
      "[Parallel(n_jobs=-1)]: Done 2800 out of 2800 | elapsed:  3.1min finished\n"
     ]
    },
    {
     "data": {
      "text/plain": [
       "GridSearchCV(cv=5, estimator=LogisticRegression(), n_jobs=-1,\n",
       "             param_grid={'C': [0.001, 0.009, 0.01, 0.09, 1, 2, 5, 10],\n",
       "                         'max_iter': [100, 200, 300, 400, 500, 600, 700],\n",
       "                         'penalty': ['l1', 'l2'],\n",
       "                         'solver': ['newton-cg', 'lbfgs', 'liblinear', 'sag',\n",
       "                                    'saga']},\n",
       "             verbose=True)"
      ]
     },
     "execution_count": 142,
     "metadata": {},
     "output_type": "execute_result"
    }
   ],
   "source": [
    "grid = {'penalty': ['l1', 'l2'], \n",
    "        'C': [0.001, 0.009, 0.01, 0.09, 1, 2, 5, 10],\n",
    "        'max_iter': list(range(100,800,200)),\n",
    "        'solver': ['newton-cg', 'lbfgs', 'liblinear', 'sag', 'saga']}\n",
    "lr_tuning = GridSearchCV(lr, param_grid = grid, cv = 3, verbose = True, n_jobs = -1)"
   ]
  },
  {
   "cell_type": "code",
   "execution_count": 143,
   "metadata": {
    "ExecuteTime": {
     "end_time": "2021-01-29T13:23:29.797182Z",
     "start_time": "2021-01-29T13:23:29.790959Z"
    },
    "hidden": true
   },
   "outputs": [
    {
     "data": {
      "text/plain": [
       "{'C': 1, 'max_iter': 100, 'penalty': 'l2', 'solver': 'newton-cg'}"
      ]
     },
     "execution_count": 143,
     "metadata": {},
     "output_type": "execute_result"
    }
   ],
   "source": [
    "# Print hyperparameter\n",
    "log_reg_cv.best_params_"
   ]
  },
  {
   "cell_type": "code",
   "execution_count": 146,
   "metadata": {
    "ExecuteTime": {
     "end_time": "2021-01-29T13:25:44.250334Z",
     "start_time": "2021-01-29T13:25:43.804073Z"
    },
    "hidden": true,
    "hide_input": false,
    "scrolled": true
   },
   "outputs": [
    {
     "data": {
      "text/html": [
       "<div>\n",
       "<style scoped>\n",
       "    .dataframe tbody tr th:only-of-type {\n",
       "        vertical-align: middle;\n",
       "    }\n",
       "\n",
       "    .dataframe tbody tr th {\n",
       "        vertical-align: top;\n",
       "    }\n",
       "\n",
       "    .dataframe thead th {\n",
       "        text-align: right;\n",
       "    }\n",
       "</style>\n",
       "<table border=\"1\" class=\"dataframe\">\n",
       "  <thead>\n",
       "    <tr style=\"text-align: right;\">\n",
       "      <th></th>\n",
       "      <th>Model Name</th>\n",
       "      <th>Accuracy</th>\n",
       "      <th>Precision</th>\n",
       "      <th>Recall</th>\n",
       "      <th>F1 Score</th>\n",
       "      <th>AUC ROC</th>\n",
       "    </tr>\n",
       "  </thead>\n",
       "  <tbody>\n",
       "    <tr>\n",
       "      <th>0</th>\n",
       "      <td>Logistic Regression Tuned</td>\n",
       "      <td>0.724714</td>\n",
       "      <td>0.74868</td>\n",
       "      <td>0.656661</td>\n",
       "      <td>0.699658</td>\n",
       "      <td>0.723157</td>\n",
       "    </tr>\n",
       "  </tbody>\n",
       "</table>\n",
       "</div>"
      ],
      "text/plain": [
       "                  Model Name  Accuracy  Precision    Recall  F1 Score   AUC ROC\n",
       "0  Logistic Regression Tuned  0.724714    0.74868  0.656661  0.699658  0.723157"
      ]
     },
     "execution_count": 146,
     "metadata": {},
     "output_type": "execute_result"
    }
   ],
   "source": [
    "# model\n",
    "lr_tuned = LogisticRegression(C = 1, max_iter = 100, penalty = 'l2', solver = 'newton-cg')\n",
    "lr_tuned.fit(x_train, y_train)\n",
    "\n",
    "# prediction\n",
    "y_hat = lr_tuned.predict(x_test)\n",
    "\n",
    "# # performance\n",
    "lr_result_tuned = ml_performance('Logistic Regression Tuned', y_test, y_hat)\n",
    "lr_result_tuned"
   ]
  },
  {
   "cell_type": "markdown",
   "metadata": {
    "heading_collapsed": true,
    "hidden": true
   },
   "source": [
    "## 8.2. Final Model"
   ]
  },
  {
   "cell_type": "code",
   "execution_count": 177,
   "metadata": {
    "ExecuteTime": {
     "end_time": "2021-01-29T14:01:42.519973Z",
     "start_time": "2021-01-29T14:01:42.507813Z"
    },
    "hidden": true,
    "hide_input": true
   },
   "outputs": [
    {
     "data": {
      "text/html": [
       "<div>\n",
       "<style scoped>\n",
       "    .dataframe tbody tr th:only-of-type {\n",
       "        vertical-align: middle;\n",
       "    }\n",
       "\n",
       "    .dataframe tbody tr th {\n",
       "        vertical-align: top;\n",
       "    }\n",
       "\n",
       "    .dataframe thead th {\n",
       "        text-align: right;\n",
       "    }\n",
       "</style>\n",
       "<table border=\"1\" class=\"dataframe\">\n",
       "  <thead>\n",
       "    <tr style=\"text-align: right;\">\n",
       "      <th></th>\n",
       "      <th>Model Name</th>\n",
       "      <th>Accuracy</th>\n",
       "      <th>Precision</th>\n",
       "      <th>Recall</th>\n",
       "      <th>F1 Score</th>\n",
       "      <th>AUC ROC</th>\n",
       "    </tr>\n",
       "  </thead>\n",
       "  <tbody>\n",
       "    <tr>\n",
       "      <th>0</th>\n",
       "      <td>Logistic Regression</td>\n",
       "      <td>0.723818</td>\n",
       "      <td>0.762238</td>\n",
       "      <td>0.645041</td>\n",
       "      <td>0.698711</td>\n",
       "      <td>0.789636</td>\n",
       "    </tr>\n",
       "  </tbody>\n",
       "</table>\n",
       "</div>"
      ],
      "text/plain": [
       "            Model Name  Accuracy  Precision    Recall  F1 Score   AUC ROC\n",
       "0  Logistic Regression  0.723818   0.762238  0.645041  0.698711  0.789636"
      ]
     },
     "execution_count": 177,
     "metadata": {},
     "output_type": "execute_result"
    }
   ],
   "source": [
    "lr_result_cv"
   ]
  },
  {
   "cell_type": "markdown",
   "metadata": {
    "heading_collapsed": true
   },
   "source": [
    "# 9. BUSINESS PERFORMANCE"
   ]
  },
  {
   "cell_type": "code",
   "execution_count": 176,
   "metadata": {
    "ExecuteTime": {
     "end_time": "2021-01-29T14:00:05.051131Z",
     "start_time": "2021-01-29T14:00:05.042441Z"
    },
    "hidden": true,
    "hide_input": true
   },
   "outputs": [
    {
     "name": "stdout",
     "output_type": "stream",
     "text": [
      "Final number of costumers: 68561\n",
      "\n",
      "Total operational cost of diagnosis: $ 68561000\n",
      "\n",
      "Old tool\n",
      "Worst scenario profit (55% precision): -34280500\n",
      "Best scenario profit (65% precision): 34280500\n",
      "\n",
      "New tool\n",
      "Precision percentage: 76.22 %\n",
      "Worst scenario == Best Scenario profit: 102841500\n",
      "\n",
      "Percentage improvement in profit (comparing to old best scenario): 75.0 %\n"
     ]
    }
   ],
   "source": [
    "n_customers = pd.concat([y_train, y_test], axis=0).shape[0]\n",
    "print('Final number of costumers: {}'.format(n_customers))\n",
    "\n",
    "print('\\nTotal operational cost of diagnosis: $ {}'.format(n_customers*1000))\n",
    "\n",
    "print('\\nOld tool')\n",
    "print('Worst scenario profit (55% precision): {}'.format((500-1000)*n_customers))\n",
    "print('Best scenario profit (65% precision): {}'.format((1500-1000)*n_customers))\n",
    "\n",
    "print('\\nNew tool')\n",
    "print('Precision percentage: 76.22 %')\n",
    "print('Worst scenario == Best Scenario profit: {}'.format((2500-1000)*n_customers))\n",
    "\n",
    "print('\\nPercentage improvement in profit (comparing to old best scenario): {} %'.format((2500-1000)/((1500-1000)+(2500-1000))*100))"
   ]
  },
  {
   "cell_type": "markdown",
   "metadata": {
    "heading_collapsed": true
   },
   "source": [
    "# 10. CONFUSION MATRIX"
   ]
  },
  {
   "cell_type": "code",
   "execution_count": 145,
   "metadata": {
    "ExecuteTime": {
     "end_time": "2021-01-12T10:42:33.627980Z",
     "start_time": "2021-01-12T10:42:33.386845Z"
    },
    "hidden": true,
    "hide_input": true,
    "scrolled": false
   },
   "outputs": [
    {
     "data": {
      "image/png": "[encoded data removed]",
      "text/plain": [
       "<Figure size 1296x576 with 2 Axes>"
      ]
     },
     "metadata": {},
     "output_type": "display_data"
    }
   ],
   "source": [
    "y_true = y_test\n",
    "y_pred = lr_tuned.predict(x_test)\n",
    "\n",
    "cm = confusion_matrix(y_true, y_pred)\n",
    "\n",
    "sns.heatmap(cm,fmt = \".0f\", annot = True,linewidths = 0.2, linecolor = \"purple\")\n",
    "plt.xlabel(\"Predicted Label\")\n",
    "plt.ylabel(\"True Label\")\n",
    "plt.show()"
   ]
  }
 ],
 "metadata": {
  "kernelspec": {
   "display_name": "Python 3",
   "language": "python",
   "name": "python3"
  },
  "language_info": {
   "codemirror_mode": {
    "name": "ipython",
    "version": 3
   },
   "file_extension": ".py",
   "mimetype": "text/x-python",
   "name": "python",
   "nbconvert_exporter": "python",
   "pygments_lexer": "ipython3",
   "version": "3.8.0"
  }
 },
 "nbformat": 4,
 "nbformat_minor": 4
}
